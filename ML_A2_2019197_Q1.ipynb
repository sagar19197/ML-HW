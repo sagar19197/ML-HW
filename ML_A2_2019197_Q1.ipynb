{
  "cells": [
    {
      "cell_type": "markdown",
      "metadata": {
        "id": "vYe8SyfniMu8"
      },
      "source": [
        "#Machine Learning W2022\n",
        "##Assignment 2: Neural Networks & CNN\n",
        "\n",
        "### Name - Sagar Suman | Roll No. 2019197"
      ]
    },
    {
      "cell_type": "markdown",
      "metadata": {
        "id": "E4xjIGDQjLtA"
      },
      "source": [
        "### Question 1 - Backpropagation"
      ]
    },
    {
      "cell_type": "markdown",
      "metadata": {
        "id": "24aVTO5_oGIG"
      },
      "source": [
        "Imports - "
      ]
    },
    {
      "cell_type": "code",
      "execution_count": 1,
      "metadata": {
        "id": "tPPcnif3oFKw"
      },
      "outputs": [],
      "source": [
        "from sklearn import datasets\n",
        "import numpy as np\n",
        "from sklearn.neural_network import MLPClassifier\n",
        "import matplotlib.pyplot as plt\n",
        "from sklearn.model_selection import train_test_split\n",
        "import random\n",
        "from operator import add\n",
        "from scipy.special import expit\n",
        "import math\n",
        "from tqdm import tqdm\n",
        "import pickle as pk\n",
        "from sklearn.preprocessing import StandardScaler\n",
        "import matplotlib.pyplot as plt"
      ]
    },
    {
      "cell_type": "markdown",
      "metadata": {
        "id": "_-FpHytbYjiB"
      },
      "source": [
        "MyNeuralNetwork Class implementation - (Part 1 to Part 4)\n"
      ]
    },
    {
      "cell_type": "code",
      "execution_count": 2,
      "metadata": {
        "id": "6L-u_idJirn8"
      },
      "outputs": [],
      "source": [
        "## Q1.py\n",
        "\n",
        "class MyNeuralNetwork():\n",
        "    \"\"\"\n",
        "    My implementation of a Neural Network Classifier.\n",
        "    \"\"\"\n",
        "\n",
        "    acti_fns = ['relu', 'sigmoid', 'linear', 'tanh', 'softmax']\n",
        "    weight_inits = ['zero', 'random', 'normal']\n",
        " \n",
        "\n",
        "    def __init__(self, n_layers, layer_sizes, activation, learning_rate, weight_init, batch_size, num_epochs):\n",
        "        \"\"\"\n",
        "        Initializing a new MyNeuralNetwork object\n",
        "\n",
        "        Parameters\n",
        "        ----------\n",
        "        \"\"\"\n",
        "        \n",
        "        # n_layers : int value specifying the number of layers\n",
        "        self.n_layers = n_layers;\n",
        "        \n",
        "        #layer_sizes : integer array of size n_layers specifying the number of nodes in each layer\n",
        "        self.layer_sizes = layer_sizes;\n",
        "\n",
        "        #activation : string specifying the activation function to be used\n",
        "                     #possible inputs: relu, sigmoid, linear, tanh\n",
        "        self.activation = activation;\n",
        "\n",
        "        #learning_rate : float value specifying the learning rate to be used\n",
        "        self.learning_rate = learning_rate;\n",
        "\n",
        "        #weight_init : string specifying the weight initialization function to be used\n",
        "                      #possible inputs: zero, random, normal\n",
        "        self.weight_init = weight_init;\n",
        "\n",
        "        #batch_size : int value specifying the batch size to be used\n",
        "        self.batch_size = batch_size;\n",
        "\n",
        "        #num_epochs : int value specifying the number of epochs to be used\n",
        "        self.num_epochs = num_epochs;\n",
        "\n",
        "        if activation not in self.acti_fns:\n",
        "            raise Exception('Incorrect Activation Function')\n",
        "\n",
        "        if weight_init not in self.weight_inits:\n",
        "            raise Exception('Incorrect Weight Initialization Function')\n",
        "        pass\n",
        "\n",
        "        # Extra variable for storing weights and bias-\n",
        "        self.weight = {};\n",
        "        self.bias = {};\n",
        "        # For stroing train and val loss\n",
        "        self.train_loss = [];\n",
        "        self.val_loss = [];\n",
        "        # For storing weights after 50 and 100 epochs\n",
        "        self.first_weight = {};\n",
        "        self.second_weight = {};\n",
        "\n",
        "        # Sklearn models\n",
        "        if(self.activation == \"relu\"):\n",
        "          acti = \"relu\"\n",
        "        elif(self.activation == \"linear\"):\n",
        "          acti = \"identity\";\n",
        "        elif(self.activation == \"tanh\"):\n",
        "          acti = \"tanh\"\n",
        "        else:\n",
        "          acti = \"logistic\";\n",
        "        # For first 50 epochs - \n",
        "        self.sklearn_model1 = MLPClassifier(hidden_layer_sizes=(256, 128, 64), activation = acti,solver = 'sgd' , alpha = 0, batch_size = 32,max_iter=50, learning_rate_init = 0.001, learning_rate = 'constant',shuffle=True,momentum = 0,nesterovs_momentum=False,validation_fraction = 0.1); \n",
        "        # For first 100 epochs - \n",
        "        self.sklearn_model2 = MLPClassifier(hidden_layer_sizes=(256, 128, 64), activation = acti,solver = 'sgd' , alpha = 0, batch_size = 32,max_iter=100, learning_rate_init = 0.001, learning_rate = 'constant',shuffle=True,momentum = 0,nesterovs_momentum=False,validation_fraction = 0.1);\n",
        "        \n",
        "\n",
        "\n",
        "\n",
        "\n",
        "    def relu(self, X):\n",
        "        \"\"\"\n",
        "        Calculating the ReLU activation for a particular layer\n",
        "        \"\"\"\n",
        "        x_calc = np.copy(X);\n",
        "        x_calc[x_calc < 0] = 0;\n",
        "        return x_calc;\n",
        "\n",
        "\n",
        "    def relu_grad(self, X):\n",
        "        \"\"\"\n",
        "        Calculating the gradient of ReLU activation for a particular layer\n",
        "        \"\"\"\n",
        "        x_calc = np.copy(X);\n",
        "        x_calc[x_calc >= 0] = 1;\n",
        "        x_calc[x_calc < 0] = 0;\n",
        "        return x_calc;\n",
        "\n",
        "\n",
        "    def sigmoid(self, X):\n",
        "        \"\"\"\n",
        "        Calculating the Sigmoid activation for a particular layer\n",
        "        \"\"\"\n",
        "        x_calc = np.copy(X);\n",
        "        x_calc = 1/(1 + np.exp(-x_calc));\n",
        "        return x_calc;\n",
        "\n",
        "\n",
        "    def sigmoid_grad(self, X):\n",
        "        \"\"\"\n",
        "        Calculating the gradient of Sigmoid activation for a particular layer\n",
        "        \"\"\"\n",
        "        x_calc = np.copy(X);\n",
        "        x_calc = self.sigmoid(x_calc);\n",
        "        x_calc = x_calc * (1 - x_calc);\n",
        "        return x_calc;\n",
        "\n",
        "\n",
        "    def linear(self, X):\n",
        "        \"\"\"\n",
        "        Calculating the Linear activation for a particular layer\n",
        "        \"\"\"\n",
        "        x_calc = np.copy(X);\n",
        "        return x_calc;\n",
        "\n",
        "\n",
        "    def linear_grad(self, X):\n",
        "        \"\"\"\n",
        "        Calculating the gradient of Linear activation for a particular layer\n",
        "        \"\"\"\n",
        "        x_calc = np.copy(X);\n",
        "        x_calc = np.ones(x_calc.shape);\n",
        "        return x_calc;\n",
        "\n",
        "\n",
        "    def tanh(self, X):\n",
        "        \"\"\"\n",
        "        Calculating the Tanh activation for a particular layer\n",
        "        \"\"\"\n",
        "        x_calc = np.copy(X);\n",
        "        x_calc = np.tanh(x_calc);\n",
        "        return x_calc;\n",
        "\n",
        "\n",
        "    def tanh_grad(self, X):\n",
        "        \"\"\"\n",
        "        Calculating the gradient of Tanh activation for a particular layer\n",
        "        \"\"\"\n",
        "        x_calc = np.copy(X);\n",
        "        x_calc = 1 - (np.tanh(x_calc)**(2));\n",
        "        return x_calc;\n",
        "\n",
        "\n",
        "    def softmax(self, X):\n",
        "        \"\"\"\n",
        "        Calculating the Softmax activation for a particular layer\n",
        "        \"\"\"\n",
        "        x_calc = np.copy(X);\n",
        "        deno = np.sum(np.exp(x_calc));\n",
        "        x_calc = np.exp(x_calc) / deno;\n",
        "        return x_calc\n",
        "\n",
        "\n",
        "    def softmax_grad(self, X):\n",
        "        \"\"\"\n",
        "        Calculating the gradient of Softmax activation for a particular layer\n",
        "        \"\"\"\n",
        "        # It will return the jacobian matrix- \n",
        "        x_calc = np.copy(X);\n",
        "        soft_max = self.softmax(x_calc);\n",
        "        x_calc  = np.ones((soft_max.size,soft_max.size));\n",
        "        for i in range(0,soft_max.size):\n",
        "          x_calc[:,i] = x_calc[:,i]*soft_max[i];\n",
        "          x_calc[i,:] = - x_calc[i,:]*soft_max[i];\n",
        "          x_calc[i,i] =  soft_max[i]*(1 - soft_max[i]);\n",
        "        \n",
        "        return x_calc; \n",
        "\n",
        "\n",
        "    def zero_init(self, shape):\n",
        "        \"\"\"\n",
        "        Calculating the initial weights after Zero Activation for a particular layer\n",
        "        \"\"\"\n",
        "        weight = np.zeros(shape);\n",
        "        return weight;\n",
        "\n",
        "\n",
        "    def random_init(self, shape):\n",
        "        \"\"\"\n",
        "        Calculating the initial weights after Random Activation for a particular layer\n",
        "        \"\"\"\n",
        "        weight = np.random.rand(shape[0],shape[1]);\n",
        "        weight = 2*(weight - 0.5);\n",
        "        # As scaling factor is 0.01\n",
        "        return weight * 0.01;\n",
        "\n",
        "\n",
        "    def normal_init(self, shape):\n",
        "        \"\"\"\n",
        "        Calculating the initial weights after Normal(0,1) Activation for a particular layer\n",
        "        \"\"\"\n",
        "        weight = np.random.normal(size = shape);\n",
        "        # As scaling factor is 0.01\n",
        "        return weight * 0.01;\n",
        "\n",
        "    #---------------------------------------------------------------\n",
        "    # HELPER FUNCTIONS DEFINITIONS - \n",
        "\n",
        "    def cross_entropy_loss(self, X, y):\n",
        "        \"\"\" \n",
        "        Calculates and return cross entropy loss\n",
        "        \"\"\"\n",
        "        #print(X.shape)\n",
        "        # as we have our loss function as cross entropy, and we might\n",
        "        # get inf on 0, so applying softmax on last layer - \n",
        "        X = self.softmax(X);\n",
        "        return -np.sum(np.log(X.T.dot(y)));        \n",
        "\n",
        "    def one_hot_encoding(self,y):\n",
        "      yy = np.zeros(10);\n",
        "      yy[y] = 1;\n",
        "      return yy.reshape(10,1);\n",
        "\n",
        "\n",
        "    def Weight_initialize(self):\n",
        "      \"\"\"\n",
        "      For intializing weights and bias\n",
        "      \"\"\"\n",
        "      weight = {};\n",
        "      bias = {};\n",
        "\n",
        "      for i in range(self.n_layers-1):\n",
        "        # For all layers - \n",
        "        # Weight have dimension = s(j+1) X s(j)\n",
        "        if(self.weight_init == \"zero\"):\n",
        "          weight[i] = self.zero_init((self.layer_sizes[i+1],self.layer_sizes[i]));\n",
        "        elif(self.weight_init == \"random\"):\n",
        "          weight[i] = self.random_init((self.layer_sizes[i+1],self.layer_sizes[i]));\n",
        "        else:\n",
        "          weight[i] = self.normal_init((self.layer_sizes[i+1],self.layer_sizes[i]));\n",
        "\n",
        "        # As bias is set to zero  - \n",
        "        bias[i] = self.zero_init((self.layer_sizes[i+1],1));\n",
        "      \n",
        "      self.weight = weight;\n",
        "      self.bias = bias;\n",
        "\n",
        "\n",
        "\n",
        "    def compute_activation(self, X):\n",
        "      \"\"\"\n",
        "        Returns result of chosen activation function applied on X\n",
        "      \"\"\"\n",
        "      if(self.activation == \"relu\"):\n",
        "        return self.relu(X);\n",
        "      elif(self.activation == \"linear\"):\n",
        "        return self.linear(X);\n",
        "      elif(self.activation == \"tanh\"):\n",
        "        return self.tanh(X);\n",
        "      elif(self.activation == \"sigmoid\"):\n",
        "        return self.sigmoid(X);\n",
        "      else:\n",
        "        return self.softmax(X);\n",
        "\n",
        "\n",
        "    def compute_grad(self,X):\n",
        "      \"\"\"\n",
        "        Returns result of Gradient of chosen activation function applied on X\n",
        "      \"\"\"\n",
        "      if(self.activation == \"relu\"):\n",
        "        return self.relu_grad(X);\n",
        "      elif(self.activation == \"linear\"):\n",
        "        return self.linear_grad(X);\n",
        "      elif(self.activation == \"tanh\"):\n",
        "        return self.tanh_grad(X);\n",
        "      elif(self.activation == \"sigmoid\"):\n",
        "        return self.sigmoid_grad(X);\n",
        "      else:\n",
        "        return self.softmax_grad(X);\n",
        "\n",
        "\n",
        "    def forward_pass(self, x):\n",
        "      \"\"\"\n",
        "        This functions is for computing forward pass \n",
        "\n",
        "        It returns two things - Z and A\n",
        "        Z - is (W.T)x ( or inner product)\n",
        "        A - is result of activation function applied on Z\n",
        "      \"\"\"\n",
        "      Z = {};\n",
        "      A = {};\n",
        "      A[0]  = x\n",
        "      # Starting from second layer as first layer is input\n",
        "      for i in range(1,self.n_layers):\n",
        "        # Computing Z- \n",
        "        Z[i] = self.weight[i-1].dot(A[i-1]) + self.bias[i-1];\n",
        "        # Computing A -\n",
        "        A[i] = self.compute_activation(Z[i]);\n",
        "\n",
        "      return Z,A;\n",
        "      \n",
        "\n",
        "    def back_prop(self,y,A,Z):\n",
        "      \"\"\"\n",
        "        This function is for computing back propagation\n",
        "        It returns del\n",
        "        delta - is used for computing gradient- \n",
        "      \"\"\"  \n",
        "      delta = {};\n",
        "      delta[self.n_layers-1] = A[self.n_layers - 1] - y;\n",
        "      # For calculating rest - loop in backward\n",
        "      for i in range(self.n_layers-2,0,-1):\n",
        "        delta[i] = (self.weight[i].T).dot(delta[i+1]);\n",
        "        delta[i] = delta[i]*self.compute_grad(Z[i]);\n",
        "      \n",
        "      return delta;\n",
        "\n",
        "    \n",
        "    # OTHER Helper functions - \n",
        "    def plot_test_val_loss(self):\n",
        "      \"\"\" \n",
        "      PLOTS Train and validation scores\n",
        "      \"\"\"\n",
        "      plt.plot(self.train_loss,label = \"Training Loss\");\n",
        "      plt.plot(self.val_loss,label = \"Validation Loss\");\n",
        "      plt.legend();\n",
        "      title = \"MyNeuralNetwork Training and Validation Loss for \"+self.activation;\n",
        "      plt.title(title);\n",
        "\n",
        "\n",
        "    def give_acc_fifty_epoch(self,X,y):\n",
        "      \"\"\" \n",
        "      This function gives accuracy for X for saved weights \n",
        "      \"\"\"\n",
        "      # For first 50 and 100 epochs - \n",
        "      X = np.asarray(X);\n",
        "      for i in range(X.shape[0]):\n",
        "        Z1 = {};\n",
        "        Z2 = {};\n",
        "        A1 = {};\n",
        "        A2 = {};\n",
        "        A1[0] = X[i,:].reshape(X[i,:].size,1);\n",
        "        A2[0] = X[i,:].reshape(X[i,:].size,1);\n",
        "        # Starting from second layer as first layer is input\n",
        "        for j in range(1,self.n_layers):\n",
        "          # Computing Z- \n",
        "          Z1[j] = self.first_weight[j-1].dot(A1[j-1]);\n",
        "          Z2[j] = self.second_weight[j-1].dot(A2[j-1]);\n",
        "          # Computing A -\n",
        "          A1[j] = self.compute_activation(Z1[j]);\n",
        "          A2[j] = self.compute_activation(Z2[j]);\n",
        "\n",
        "        # Applying Soft-Max for probablities on last layer- \n",
        "        probability1 = self.softmax(A1[self.n_layers-1].T);\n",
        "        probability2 = self.softmax(A2[self.n_layers-1].T);\n",
        "        if(i == 0):\n",
        "           yy1 = probability1;\n",
        "           yy2 = probability2;\n",
        "        else:\n",
        "           yy1 = np.vstack([yy1,probability1]);\n",
        "           yy2 = np.vstack([yy2,probability2]);\n",
        "      yy1 = yy1.argmax(axis = 1);\n",
        "      yy2 = yy2.argmax(axis = 1);\n",
        "      accuracy1 = np.sum(yy1 == y)/len(y)\n",
        "      accuracy2 = np.sum(yy2 == y)/len(y)\n",
        "      print(\"MyNeuralNetwork Accuracy after 50 epoch for \",self.activation,\":\",accuracy1);\n",
        "      print(\"MyNeuralNetwork Accuracy after 100 epoch for\",self.activation,\":\",accuracy2);\n",
        "\n",
        "\n",
        "\n",
        "\n",
        "    #--------------------------------------------------------------\n",
        "\n",
        "    # Change made in this function defintion - added X_val and y_val as parameter\n",
        "    def fit(self, X, y, X_val = None, y_val = None):\n",
        "        \"\"\"\n",
        "        Fitting (training) the linear model.\n",
        "\n",
        "        Parameters\n",
        "        ----------\n",
        "        X : 2-dimensional numpy array of shape (n_samples, n_features) which acts as training data.\n",
        "\n",
        "        y : 1-dimensional numpy array of shape (n_samples,) which acts as training labels.\n",
        "        \n",
        "        Returns\n",
        "        -------\n",
        "        self : an instance of self\n",
        "        \"\"\"\n",
        "\n",
        "        # Intilializing weights - \n",
        "        self.Weight_initialize();\n",
        "\n",
        "        index = list(range(X.shape[0]));\n",
        "        train_loss = [];\n",
        "        val_loss = [];\n",
        "        # For all epochs - \n",
        "        for epoch in range(self.num_epochs):\n",
        "          # For all batches -\n",
        "          \n",
        "          # RANDOM SHUFFLING \n",
        "          np.random.shuffle(index);\n",
        "          train_loss_batch = 0;\n",
        "\n",
        "          for batch in index:\n",
        "            X_batch = np.copy(X[batch:batch+self.batch_size,:]);\n",
        "            y_batch = np.copy(y[batch:batch+self.batch_size])\n",
        "            \n",
        "            #One hot encoding y - \n",
        "            y_batch = self.one_hot_encoding(y_batch);\n",
        "            # Forwad pass -\n",
        "            Z, A  = self.forward_pass(X_batch.T);\n",
        "            # Backward propagation - \n",
        "\n",
        "            delta = self.back_prop(y_batch,A,Z);\n",
        "\n",
        "            # Computing loss -\n",
        "            train_loss_batch += self.cross_entropy_loss(A[self.n_layers-1],y_batch);\n",
        "\n",
        "            # Gradient update - \n",
        "            Big_delta = {};\n",
        "            for i in range(0,self.n_layers-1):\n",
        "              Big_delta[i] = (delta[i+1].dot(A[i].T))/len(X_batch);\n",
        "              #Updating weight and biases\n",
        "              self.weight[i] = self.weight[i] - (self.learning_rate * Big_delta[i]);\n",
        "              #self.bias[i]=self.bias[i]-self.learning_rate*np.sum(delta[i+1],axis=0)/len(X_batch)\n",
        "\n",
        "          if(X_val is not None):\n",
        "            # Training loss - \n",
        "            train_loss.append(train_loss_batch/len(y));\n",
        "\n",
        "            X_val = np.asarray(X_val);\n",
        "            y_val = np.asarray(y_val);\n",
        "            # validation score - \n",
        "            val_loss_batch = 0;\n",
        "            # Forward pass on X_val - \n",
        "            for i in range(X_val.shape[0]):\n",
        "              Z,A = self.forward_pass(X_val[i,:].reshape(X_val[i,:].size,1));\n",
        "              #Loss - \n",
        "              val_loss_batch += self.cross_entropy_loss(A[self.n_layers-1], self.one_hot_encoding(y_val[i]));\n",
        "            \n",
        "            #Append in validation loss\n",
        "            val_loss.append(val_loss_batch/y_val.size);\n",
        "            if((epoch+1)%5 == 0):\n",
        "              print(\"Epoch:\",(epoch+1),\"Training_loss=\",train_loss[len(train_loss)-1],\"Validation_Loss=\",val_loss[len(val_loss)-1]);\n",
        "            # Saving weights for first and second 50th epochs - \n",
        "            if(epoch == 49):\n",
        "              self.first_weight = self.weight.copy();\n",
        "              self.first_bias = self.bias.copy();\n",
        "            if(epoch == 99):\n",
        "              self.second_weight = self.weight.copy();\n",
        "              self.second_bias = self.bias.copy();\n",
        "        \n",
        "        self.train_loss = train_loss;\n",
        "        self.val_loss = val_loss;\n",
        "\n",
        "\n",
        "        # fit function has to return an instance of itself or else it won't work with test.py\n",
        "        return self\n",
        "\n",
        "\n",
        "\n",
        "    def predict_proba(self, X):\n",
        "        \"\"\"\n",
        "        Predicting probabilities using the trained linear model.\n",
        "        \"\"\"\n",
        "        X = np.asarray(X);\n",
        "        for i in range(X.shape[0]):\n",
        "              Z,A = self.forward_pass(X[i,:].reshape(X[i,:].size,1));\n",
        "              # Applying Soft-Max for probablities on last layer- \n",
        "              probability = self.softmax(A[self.n_layers-1].T);\n",
        "              if(i == 0):\n",
        "                y = probability;\n",
        "              else:\n",
        "                y = np.vstack([y,probability]);\n",
        "        # return the numpy array y which contains the probab of predicted values\n",
        "        return y;\n",
        "\n",
        "\n",
        "    def predict(self, X):\n",
        "        \"\"\"\n",
        "        Predicting values using the trained linear model.\n",
        "        \"\"\"\n",
        "        y = self.predict_proba(X);\n",
        "        # return the numpy array y which contains the predicted values\n",
        "        return y.argmax(axis = 1);\n",
        "\n",
        "\n",
        "    def score(self, X, y):\n",
        "        \"\"\"\n",
        "        Predicting values using the trained linear model.\n",
        "        \"\"\"\n",
        "        y2 = self.predict(X)\n",
        "        # return the ACcuracy\n",
        "        accuracy = np.sum(y2 == y)/len(y)\n",
        "        return accuracy;\n",
        "\n",
        "\n",
        "\n",
        "#---------------------------SKLEARN ------------------------------------------\n",
        "\n",
        "\n",
        "    def train_sklearn_models(self,X,y):\n",
        "      #Fitting models - \n",
        "      self.sklearn_model1.fit(X,y);\n",
        "      self.sklearn_model2.fit(X,y);\n",
        "\n",
        "\n",
        "\n",
        "    def compare_with_mlp(self):\n",
        "        loss_from_sklearn = self.sklearn_model2.loss_curve_\n",
        "        plt.plot(loss_from_sklearn,label=\"sklearn\")\n",
        "        plt.plot(self.train_loss,label=\"MyNeuralNetwork\")\n",
        "        plt.legend();\n",
        "        title = \"Loss from sklearn vs MyNeuralNetwork for \"+self.activation\n",
        "        plt.title(title);\n",
        "\n",
        "\n",
        "    def sklearm_acc_fifty_epoch(self,X,y):\n",
        "      y1 = self.model1.predict(X);\n",
        "      y2 = self.model2.predict(X);\n",
        "      # return the ACcuracy\n",
        "      accuracy1 = np.sum(y1 == y)/len(y)\n",
        "      accuracy2 = np.sum(y2 == y)/len(y)\n",
        "      print(\"MyNeuralNetwork Accuracy after 50 epoch for \",self.activation,\":\",accuracy1);\n",
        "      print(\"MyNeuralNetwork Accuracy after 100 epoch for\",self.activation,\":\",accuracy2);\n",
        "\n",
        "\n",
        "\n",
        "#----------------END OF MyNeuralNetwork Class---------------------------------\n"
      ]
    },
    {
      "cell_type": "markdown",
      "metadata": {
        "id": "jEzECOhtOLWs"
      },
      "source": [
        "For Question 1, part 5 -"
      ]
    },
    {
      "cell_type": "code",
      "execution_count": 3,
      "metadata": {
        "colab": {
          "base_uri": "https://localhost:8080/"
        },
        "id": "nRpzEgHxcxEz",
        "outputId": "36812868-47f5-4bf8-8634-a54099197c05"
      },
      "outputs": [
        {
          "output_type": "stream",
          "name": "stdout",
          "text": [
            "Mounted at /content/gdrive\n"
          ]
        }
      ],
      "source": [
        "from google.colab import drive\n",
        "import pandas as pd\n",
        "drive.mount('/content/gdrive');"
      ]
    },
    {
      "cell_type": "markdown",
      "metadata": {
        "id": "yj8BXwkld0Y4"
      },
      "source": [
        "Reading FASHION MNIST dataset"
      ]
    },
    {
      "cell_type": "code",
      "execution_count": 4,
      "metadata": {
        "id": "r35tRrxUdc6h"
      },
      "outputs": [],
      "source": [
        "data = pd.read_csv('/content/gdrive/My Drive/Colab Notebooks/fashion-mnist_train.csv')"
      ]
    },
    {
      "cell_type": "code",
      "execution_count": 5,
      "metadata": {
        "colab": {
          "base_uri": "https://localhost:8080/"
        },
        "id": "fPTK2h4-d5SQ",
        "outputId": "ee7c2474-664d-4eb3-9b1a-25a8c384611a"
      },
      "outputs": [
        {
          "output_type": "execute_result",
          "data": {
            "text/plain": [
              "(60000, 785)"
            ]
          },
          "metadata": {},
          "execution_count": 5
        }
      ],
      "source": [
        "data.shape"
      ]
    },
    {
      "cell_type": "code",
      "execution_count": 6,
      "metadata": {
        "colab": {
          "base_uri": "https://localhost:8080/",
          "height": 394
        },
        "id": "WhXOuFKvd8q4",
        "outputId": "1c42e765-8e62-4bc9-92ba-12001f603e3c"
      },
      "outputs": [
        {
          "output_type": "execute_result",
          "data": {
            "text/plain": [
              "              label        pixel1        pixel2        pixel3        pixel4  \\\n",
              "count  60000.000000  60000.000000  60000.000000  60000.000000  60000.000000   \n",
              "mean       4.500000      0.000900      0.006150      0.035333      0.101933   \n",
              "std        2.872305      0.094689      0.271011      1.222324      2.452871   \n",
              "min        0.000000      0.000000      0.000000      0.000000      0.000000   \n",
              "25%        2.000000      0.000000      0.000000      0.000000      0.000000   \n",
              "50%        4.500000      0.000000      0.000000      0.000000      0.000000   \n",
              "75%        7.000000      0.000000      0.000000      0.000000      0.000000   \n",
              "max        9.000000     16.000000     36.000000    226.000000    164.000000   \n",
              "\n",
              "             pixel5        pixel6        pixel7        pixel8        pixel9  \\\n",
              "count  60000.000000  60000.000000  60000.000000  60000.000000  60000.000000   \n",
              "mean       0.247967      0.411467      0.805767      2.198283      5.682000   \n",
              "std        4.306912      5.836188      8.215169     14.093378     23.819481   \n",
              "min        0.000000      0.000000      0.000000      0.000000      0.000000   \n",
              "25%        0.000000      0.000000      0.000000      0.000000      0.000000   \n",
              "50%        0.000000      0.000000      0.000000      0.000000      0.000000   \n",
              "75%        0.000000      0.000000      0.000000      0.000000      0.000000   \n",
              "max      227.000000    230.000000    224.000000    255.000000    254.000000   \n",
              "\n",
              "       ...      pixel775      pixel776      pixel777      pixel778  \\\n",
              "count  ...  60000.000000  60000.000000  60000.000000  60000.000000   \n",
              "mean   ...     34.625400     23.300683     16.588267     17.869433   \n",
              "std    ...     57.545242     48.854427     41.979611     43.966032   \n",
              "min    ...      0.000000      0.000000      0.000000      0.000000   \n",
              "25%    ...      0.000000      0.000000      0.000000      0.000000   \n",
              "50%    ...      0.000000      0.000000      0.000000      0.000000   \n",
              "75%    ...     58.000000      9.000000      0.000000      0.000000   \n",
              "max    ...    255.000000    255.000000    255.000000    255.000000   \n",
              "\n",
              "           pixel779      pixel780      pixel781      pixel782      pixel783  \\\n",
              "count  60000.000000  60000.000000  60000.000000  60000.000000  60000.000000   \n",
              "mean      22.814817     17.911483      8.520633      2.753300      0.855517   \n",
              "std       51.830477     45.149388     29.614859     17.397652      9.356960   \n",
              "min        0.000000      0.000000      0.000000      0.000000      0.000000   \n",
              "25%        0.000000      0.000000      0.000000      0.000000      0.000000   \n",
              "50%        0.000000      0.000000      0.000000      0.000000      0.000000   \n",
              "75%        0.000000      0.000000      0.000000      0.000000      0.000000   \n",
              "max      255.000000    255.000000    255.000000    255.000000    255.000000   \n",
              "\n",
              "          pixel784  \n",
              "count  60000.00000  \n",
              "mean       0.07025  \n",
              "std        2.12587  \n",
              "min        0.00000  \n",
              "25%        0.00000  \n",
              "50%        0.00000  \n",
              "75%        0.00000  \n",
              "max      170.00000  \n",
              "\n",
              "[8 rows x 785 columns]"
            ],
            "text/html": [
              "\n",
              "  <div id=\"df-690f3521-7084-41ed-b6b8-083885dd2f3c\">\n",
              "    <div class=\"colab-df-container\">\n",
              "      <div>\n",
              "<style scoped>\n",
              "    .dataframe tbody tr th:only-of-type {\n",
              "        vertical-align: middle;\n",
              "    }\n",
              "\n",
              "    .dataframe tbody tr th {\n",
              "        vertical-align: top;\n",
              "    }\n",
              "\n",
              "    .dataframe thead th {\n",
              "        text-align: right;\n",
              "    }\n",
              "</style>\n",
              "<table border=\"1\" class=\"dataframe\">\n",
              "  <thead>\n",
              "    <tr style=\"text-align: right;\">\n",
              "      <th></th>\n",
              "      <th>label</th>\n",
              "      <th>pixel1</th>\n",
              "      <th>pixel2</th>\n",
              "      <th>pixel3</th>\n",
              "      <th>pixel4</th>\n",
              "      <th>pixel5</th>\n",
              "      <th>pixel6</th>\n",
              "      <th>pixel7</th>\n",
              "      <th>pixel8</th>\n",
              "      <th>pixel9</th>\n",
              "      <th>...</th>\n",
              "      <th>pixel775</th>\n",
              "      <th>pixel776</th>\n",
              "      <th>pixel777</th>\n",
              "      <th>pixel778</th>\n",
              "      <th>pixel779</th>\n",
              "      <th>pixel780</th>\n",
              "      <th>pixel781</th>\n",
              "      <th>pixel782</th>\n",
              "      <th>pixel783</th>\n",
              "      <th>pixel784</th>\n",
              "    </tr>\n",
              "  </thead>\n",
              "  <tbody>\n",
              "    <tr>\n",
              "      <th>count</th>\n",
              "      <td>60000.000000</td>\n",
              "      <td>60000.000000</td>\n",
              "      <td>60000.000000</td>\n",
              "      <td>60000.000000</td>\n",
              "      <td>60000.000000</td>\n",
              "      <td>60000.000000</td>\n",
              "      <td>60000.000000</td>\n",
              "      <td>60000.000000</td>\n",
              "      <td>60000.000000</td>\n",
              "      <td>60000.000000</td>\n",
              "      <td>...</td>\n",
              "      <td>60000.000000</td>\n",
              "      <td>60000.000000</td>\n",
              "      <td>60000.000000</td>\n",
              "      <td>60000.000000</td>\n",
              "      <td>60000.000000</td>\n",
              "      <td>60000.000000</td>\n",
              "      <td>60000.000000</td>\n",
              "      <td>60000.000000</td>\n",
              "      <td>60000.000000</td>\n",
              "      <td>60000.00000</td>\n",
              "    </tr>\n",
              "    <tr>\n",
              "      <th>mean</th>\n",
              "      <td>4.500000</td>\n",
              "      <td>0.000900</td>\n",
              "      <td>0.006150</td>\n",
              "      <td>0.035333</td>\n",
              "      <td>0.101933</td>\n",
              "      <td>0.247967</td>\n",
              "      <td>0.411467</td>\n",
              "      <td>0.805767</td>\n",
              "      <td>2.198283</td>\n",
              "      <td>5.682000</td>\n",
              "      <td>...</td>\n",
              "      <td>34.625400</td>\n",
              "      <td>23.300683</td>\n",
              "      <td>16.588267</td>\n",
              "      <td>17.869433</td>\n",
              "      <td>22.814817</td>\n",
              "      <td>17.911483</td>\n",
              "      <td>8.520633</td>\n",
              "      <td>2.753300</td>\n",
              "      <td>0.855517</td>\n",
              "      <td>0.07025</td>\n",
              "    </tr>\n",
              "    <tr>\n",
              "      <th>std</th>\n",
              "      <td>2.872305</td>\n",
              "      <td>0.094689</td>\n",
              "      <td>0.271011</td>\n",
              "      <td>1.222324</td>\n",
              "      <td>2.452871</td>\n",
              "      <td>4.306912</td>\n",
              "      <td>5.836188</td>\n",
              "      <td>8.215169</td>\n",
              "      <td>14.093378</td>\n",
              "      <td>23.819481</td>\n",
              "      <td>...</td>\n",
              "      <td>57.545242</td>\n",
              "      <td>48.854427</td>\n",
              "      <td>41.979611</td>\n",
              "      <td>43.966032</td>\n",
              "      <td>51.830477</td>\n",
              "      <td>45.149388</td>\n",
              "      <td>29.614859</td>\n",
              "      <td>17.397652</td>\n",
              "      <td>9.356960</td>\n",
              "      <td>2.12587</td>\n",
              "    </tr>\n",
              "    <tr>\n",
              "      <th>min</th>\n",
              "      <td>0.000000</td>\n",
              "      <td>0.000000</td>\n",
              "      <td>0.000000</td>\n",
              "      <td>0.000000</td>\n",
              "      <td>0.000000</td>\n",
              "      <td>0.000000</td>\n",
              "      <td>0.000000</td>\n",
              "      <td>0.000000</td>\n",
              "      <td>0.000000</td>\n",
              "      <td>0.000000</td>\n",
              "      <td>...</td>\n",
              "      <td>0.000000</td>\n",
              "      <td>0.000000</td>\n",
              "      <td>0.000000</td>\n",
              "      <td>0.000000</td>\n",
              "      <td>0.000000</td>\n",
              "      <td>0.000000</td>\n",
              "      <td>0.000000</td>\n",
              "      <td>0.000000</td>\n",
              "      <td>0.000000</td>\n",
              "      <td>0.00000</td>\n",
              "    </tr>\n",
              "    <tr>\n",
              "      <th>25%</th>\n",
              "      <td>2.000000</td>\n",
              "      <td>0.000000</td>\n",
              "      <td>0.000000</td>\n",
              "      <td>0.000000</td>\n",
              "      <td>0.000000</td>\n",
              "      <td>0.000000</td>\n",
              "      <td>0.000000</td>\n",
              "      <td>0.000000</td>\n",
              "      <td>0.000000</td>\n",
              "      <td>0.000000</td>\n",
              "      <td>...</td>\n",
              "      <td>0.000000</td>\n",
              "      <td>0.000000</td>\n",
              "      <td>0.000000</td>\n",
              "      <td>0.000000</td>\n",
              "      <td>0.000000</td>\n",
              "      <td>0.000000</td>\n",
              "      <td>0.000000</td>\n",
              "      <td>0.000000</td>\n",
              "      <td>0.000000</td>\n",
              "      <td>0.00000</td>\n",
              "    </tr>\n",
              "    <tr>\n",
              "      <th>50%</th>\n",
              "      <td>4.500000</td>\n",
              "      <td>0.000000</td>\n",
              "      <td>0.000000</td>\n",
              "      <td>0.000000</td>\n",
              "      <td>0.000000</td>\n",
              "      <td>0.000000</td>\n",
              "      <td>0.000000</td>\n",
              "      <td>0.000000</td>\n",
              "      <td>0.000000</td>\n",
              "      <td>0.000000</td>\n",
              "      <td>...</td>\n",
              "      <td>0.000000</td>\n",
              "      <td>0.000000</td>\n",
              "      <td>0.000000</td>\n",
              "      <td>0.000000</td>\n",
              "      <td>0.000000</td>\n",
              "      <td>0.000000</td>\n",
              "      <td>0.000000</td>\n",
              "      <td>0.000000</td>\n",
              "      <td>0.000000</td>\n",
              "      <td>0.00000</td>\n",
              "    </tr>\n",
              "    <tr>\n",
              "      <th>75%</th>\n",
              "      <td>7.000000</td>\n",
              "      <td>0.000000</td>\n",
              "      <td>0.000000</td>\n",
              "      <td>0.000000</td>\n",
              "      <td>0.000000</td>\n",
              "      <td>0.000000</td>\n",
              "      <td>0.000000</td>\n",
              "      <td>0.000000</td>\n",
              "      <td>0.000000</td>\n",
              "      <td>0.000000</td>\n",
              "      <td>...</td>\n",
              "      <td>58.000000</td>\n",
              "      <td>9.000000</td>\n",
              "      <td>0.000000</td>\n",
              "      <td>0.000000</td>\n",
              "      <td>0.000000</td>\n",
              "      <td>0.000000</td>\n",
              "      <td>0.000000</td>\n",
              "      <td>0.000000</td>\n",
              "      <td>0.000000</td>\n",
              "      <td>0.00000</td>\n",
              "    </tr>\n",
              "    <tr>\n",
              "      <th>max</th>\n",
              "      <td>9.000000</td>\n",
              "      <td>16.000000</td>\n",
              "      <td>36.000000</td>\n",
              "      <td>226.000000</td>\n",
              "      <td>164.000000</td>\n",
              "      <td>227.000000</td>\n",
              "      <td>230.000000</td>\n",
              "      <td>224.000000</td>\n",
              "      <td>255.000000</td>\n",
              "      <td>254.000000</td>\n",
              "      <td>...</td>\n",
              "      <td>255.000000</td>\n",
              "      <td>255.000000</td>\n",
              "      <td>255.000000</td>\n",
              "      <td>255.000000</td>\n",
              "      <td>255.000000</td>\n",
              "      <td>255.000000</td>\n",
              "      <td>255.000000</td>\n",
              "      <td>255.000000</td>\n",
              "      <td>255.000000</td>\n",
              "      <td>170.00000</td>\n",
              "    </tr>\n",
              "  </tbody>\n",
              "</table>\n",
              "<p>8 rows × 785 columns</p>\n",
              "</div>\n",
              "      <button class=\"colab-df-convert\" onclick=\"convertToInteractive('df-690f3521-7084-41ed-b6b8-083885dd2f3c')\"\n",
              "              title=\"Convert this dataframe to an interactive table.\"\n",
              "              style=\"display:none;\">\n",
              "        \n",
              "  <svg xmlns=\"http://www.w3.org/2000/svg\" height=\"24px\"viewBox=\"0 0 24 24\"\n",
              "       width=\"24px\">\n",
              "    <path d=\"M0 0h24v24H0V0z\" fill=\"none\"/>\n",
              "    <path d=\"M18.56 5.44l.94 2.06.94-2.06 2.06-.94-2.06-.94-.94-2.06-.94 2.06-2.06.94zm-11 1L8.5 8.5l.94-2.06 2.06-.94-2.06-.94L8.5 2.5l-.94 2.06-2.06.94zm10 10l.94 2.06.94-2.06 2.06-.94-2.06-.94-.94-2.06-.94 2.06-2.06.94z\"/><path d=\"M17.41 7.96l-1.37-1.37c-.4-.4-.92-.59-1.43-.59-.52 0-1.04.2-1.43.59L10.3 9.45l-7.72 7.72c-.78.78-.78 2.05 0 2.83L4 21.41c.39.39.9.59 1.41.59.51 0 1.02-.2 1.41-.59l7.78-7.78 2.81-2.81c.8-.78.8-2.07 0-2.86zM5.41 20L4 18.59l7.72-7.72 1.47 1.35L5.41 20z\"/>\n",
              "  </svg>\n",
              "      </button>\n",
              "      \n",
              "  <style>\n",
              "    .colab-df-container {\n",
              "      display:flex;\n",
              "      flex-wrap:wrap;\n",
              "      gap: 12px;\n",
              "    }\n",
              "\n",
              "    .colab-df-convert {\n",
              "      background-color: #E8F0FE;\n",
              "      border: none;\n",
              "      border-radius: 50%;\n",
              "      cursor: pointer;\n",
              "      display: none;\n",
              "      fill: #1967D2;\n",
              "      height: 32px;\n",
              "      padding: 0 0 0 0;\n",
              "      width: 32px;\n",
              "    }\n",
              "\n",
              "    .colab-df-convert:hover {\n",
              "      background-color: #E2EBFA;\n",
              "      box-shadow: 0px 1px 2px rgba(60, 64, 67, 0.3), 0px 1px 3px 1px rgba(60, 64, 67, 0.15);\n",
              "      fill: #174EA6;\n",
              "    }\n",
              "\n",
              "    [theme=dark] .colab-df-convert {\n",
              "      background-color: #3B4455;\n",
              "      fill: #D2E3FC;\n",
              "    }\n",
              "\n",
              "    [theme=dark] .colab-df-convert:hover {\n",
              "      background-color: #434B5C;\n",
              "      box-shadow: 0px 1px 3px 1px rgba(0, 0, 0, 0.15);\n",
              "      filter: drop-shadow(0px 1px 2px rgba(0, 0, 0, 0.3));\n",
              "      fill: #FFFFFF;\n",
              "    }\n",
              "  </style>\n",
              "\n",
              "      <script>\n",
              "        const buttonEl =\n",
              "          document.querySelector('#df-690f3521-7084-41ed-b6b8-083885dd2f3c button.colab-df-convert');\n",
              "        buttonEl.style.display =\n",
              "          google.colab.kernel.accessAllowed ? 'block' : 'none';\n",
              "\n",
              "        async function convertToInteractive(key) {\n",
              "          const element = document.querySelector('#df-690f3521-7084-41ed-b6b8-083885dd2f3c');\n",
              "          const dataTable =\n",
              "            await google.colab.kernel.invokeFunction('convertToInteractive',\n",
              "                                                     [key], {});\n",
              "          if (!dataTable) return;\n",
              "\n",
              "          const docLinkHtml = 'Like what you see? Visit the ' +\n",
              "            '<a target=\"_blank\" href=https://colab.research.google.com/notebooks/data_table.ipynb>data table notebook</a>'\n",
              "            + ' to learn more about interactive tables.';\n",
              "          element.innerHTML = '';\n",
              "          dataTable['output_type'] = 'display_data';\n",
              "          await google.colab.output.renderOutput(dataTable, element);\n",
              "          const docLink = document.createElement('div');\n",
              "          docLink.innerHTML = docLinkHtml;\n",
              "          element.appendChild(docLink);\n",
              "        }\n",
              "      </script>\n",
              "    </div>\n",
              "  </div>\n",
              "  "
            ]
          },
          "metadata": {},
          "execution_count": 6
        }
      ],
      "source": [
        "data.describe()"
      ]
    },
    {
      "cell_type": "markdown",
      "metadata": {
        "id": "z_ABpmejf5pc"
      },
      "source": [
        " Separating X and y"
      ]
    },
    {
      "cell_type": "code",
      "execution_count": 7,
      "metadata": {
        "colab": {
          "base_uri": "https://localhost:8080/"
        },
        "id": "LrW3LQsQeTFH",
        "outputId": "c95e9404-ea0e-41a4-aba0-79533924f478"
      },
      "outputs": [
        {
          "output_type": "stream",
          "name": "stdout",
          "text": [
            "(60000, 784) (60000,)\n"
          ]
        }
      ],
      "source": [
        "X = data.drop(columns = ['label']);\n",
        "y = data['label'];\n",
        "print(X.shape,y.shape);"
      ]
    },
    {
      "cell_type": "markdown",
      "metadata": {
        "id": "rseHY158hO3k"
      },
      "source": [
        "The dataSet has 10 classes -"
      ]
    },
    {
      "cell_type": "code",
      "execution_count": 8,
      "metadata": {
        "colab": {
          "base_uri": "https://localhost:8080/"
        },
        "id": "Lsa9Af7Pg_hq",
        "outputId": "d2bcaa0e-e9ea-4245-cc89-bd3588195fbe"
      },
      "outputs": [
        {
          "output_type": "execute_result",
          "data": {
            "text/plain": [
              "array([0, 1, 2, 3, 4, 5, 6, 7, 8, 9])"
            ]
          },
          "metadata": {},
          "execution_count": 8
        }
      ],
      "source": [
        "np.unique(y)"
      ]
    },
    {
      "cell_type": "code",
      "execution_count": 9,
      "metadata": {
        "colab": {
          "base_uri": "https://localhost:8080/"
        },
        "id": "A8imDuwfr7jc",
        "outputId": "68b1f859-46da-4947-cd92-d6ff7cb88c9c"
      },
      "outputs": [
        {
          "output_type": "stream",
          "name": "stdout",
          "text": [
            "label\n",
            "0        6000\n",
            "1        6000\n",
            "2        6000\n",
            "3        6000\n",
            "4        6000\n",
            "5        6000\n",
            "6        6000\n",
            "7        6000\n",
            "8        6000\n",
            "9        6000\n",
            "dtype: int64\n"
          ]
        }
      ],
      "source": [
        "print(pd.DataFrame(y).value_counts());"
      ]
    },
    {
      "cell_type": "markdown",
      "metadata": {
        "id": "bTeahzi57Bjt"
      },
      "source": [
        "Train/Validation Split - Splitting the dataset into 80%(training) 10%(validation) and 10%(validation)"
      ]
    },
    {
      "cell_type": "code",
      "execution_count": 10,
      "metadata": {
        "id": "2g_l0hWEgGds"
      },
      "outputs": [],
      "source": [
        "#First splitting the dataset in to 80-20\n",
        "X_train,X_test,y_train,y_test = train_test_split(X,y,test_size=0.20);"
      ]
    },
    {
      "cell_type": "code",
      "execution_count": 11,
      "metadata": {
        "id": "VlP16kQi6_nf"
      },
      "outputs": [],
      "source": [
        "# Then splitting the 20% dataset into 10% 10%\n",
        "X_test,X_val,y_test,y_val = train_test_split(X_test,y_test,test_size=0.50);"
      ]
    },
    {
      "cell_type": "code",
      "execution_count": 12,
      "metadata": {
        "colab": {
          "base_uri": "https://localhost:8080/"
        },
        "id": "jNgsVxiYHfKr",
        "outputId": "602e57a5-182c-42eb-82d8-9042b1f01d57"
      },
      "outputs": [
        {
          "output_type": "stream",
          "name": "stdout",
          "text": [
            "(48000, 784) (6000, 784) (6000, 784)\n"
          ]
        }
      ],
      "source": [
        "print(X_train.shape,X_val.shape,X_test.shape);"
      ]
    },
    {
      "cell_type": "markdown",
      "metadata": {
        "id": "yTfryN-jhtVR"
      },
      "source": [
        "StandardScaler - "
      ]
    },
    {
      "cell_type": "code",
      "execution_count": 13,
      "metadata": {
        "id": "kk6GNwDThvnh"
      },
      "outputs": [],
      "source": [
        "scale = StandardScaler();\n",
        "# Fitting and Transforming X_train\n",
        "X_train = scale.fit_transform(X_train);\n",
        "# Transforming X_test and X_val- \n",
        "X_test = scale.transform(X_test);\n",
        "X_val = scale.transform(X_val);"
      ]
    },
    {
      "cell_type": "markdown",
      "metadata": {
        "id": "rFtrXyTj6Ab_"
      },
      "source": [
        "Creating Models of implementaion of neural networks for following activation functions- \n",
        "\n",
        "\n",
        "*   ReLu\n",
        "*   Sigmoid\n",
        "*   Linear\n",
        "*   Tanh\n",
        "\n",
        "\n",
        "\n"
      ]
    },
    {
      "cell_type": "markdown",
      "metadata": {
        "id": "0m5LQ6eM_EzN"
      },
      "source": [
        "Training models - "
      ]
    },
    {
      "cell_type": "markdown",
      "metadata": {
        "id": "40buDZbBVhpB"
      },
      "source": [
        "##ReLu"
      ]
    },
    {
      "cell_type": "code",
      "execution_count": null,
      "metadata": {
        "id": "1ICteFCHiOtZ"
      },
      "outputs": [],
      "source": [
        "NN_relu = MyNeuralNetwork(5,[784,256,128,64,10],'relu',0.1,'normal',1,100);"
      ]
    },
    {
      "cell_type": "code",
      "execution_count": null,
      "metadata": {
        "colab": {
          "background_save": true,
          "base_uri": "https://localhost:8080/"
        },
        "id": "Sp-e31tZ_EaW",
        "outputId": "8aefa5b1-b1f1-45a3-b070-99107b6d7a34"
      },
      "outputs": [
        {
          "name": "stdout",
          "output_type": "stream",
          "text": [
            "Epoch: 5 Training_loss= 2.3025850951815348 Validation_Loss= 2.302584930856837\n",
            "Epoch: 10 Training_loss= 2.302585024312609 Validation_Loss= 2.3025840000358144\n",
            "Epoch: 15 Training_loss= 2.302585093053406 Validation_Loss= 2.3025850929938976\n",
            "Epoch: 20 Training_loss= 2.302585093026357 Validation_Loss= 2.3025850929938976\n",
            "Epoch: 25 Training_loss= 2.3025850930424125 Validation_Loss= 2.3025850929938976\n",
            "Epoch: 30 Training_loss= 2.302585093062572 Validation_Loss= 2.3025850929938976\n",
            "Epoch: 35 Training_loss= 2.302585092995473 Validation_Loss= 2.3025850929938976\n",
            "Epoch: 40 Training_loss= 2.302585092995473 Validation_Loss= 2.3025850929938976\n",
            "Epoch: 45 Training_loss= 2.302585092995473 Validation_Loss= 2.3025850929938976\n",
            "Epoch: 50 Training_loss= 2.302585092995473 Validation_Loss= 2.3025850929938976\n",
            "Epoch: 55 Training_loss= 2.302585092995473 Validation_Loss= 2.3025850929938976\n",
            "Epoch: 60 Training_loss= 2.302585092995473 Validation_Loss= 2.3025850929938976\n",
            "Epoch: 65 Training_loss= 2.302585092995473 Validation_Loss= 2.3025850929938976\n",
            "Epoch: 70 Training_loss= 2.302585092995473 Validation_Loss= 2.3025850929938976\n",
            "Epoch: 75 Training_loss= 2.302585092995473 Validation_Loss= 2.3025850929938976\n",
            "Epoch: 80 Training_loss= 2.302585092995473 Validation_Loss= 2.3025850929938976\n",
            "Epoch: 85 Training_loss= 2.302585092995473 Validation_Loss= 2.3025850929938976\n",
            "Epoch: 90 Training_loss= 2.302585092995473 Validation_Loss= 2.3025850929938976\n",
            "Epoch: 95 Training_loss= 2.302585092995473 Validation_Loss= 2.3025850929938976\n",
            "Epoch: 100 Training_loss= 2.302585092995473 Validation_Loss= 2.3025850929938976\n"
          ]
        }
      ],
      "source": [
        "NN_relu.fit(X_train,y_train, X_val, y_val);"
      ]
    },
    {
      "cell_type": "markdown",
      "metadata": {
        "id": "GpWDXsjpEbGo"
      },
      "source": [
        "Dumping - "
      ]
    },
    {
      "cell_type": "code",
      "execution_count": null,
      "metadata": {
        "colab": {
          "background_save": true
        },
        "id": "di5gt6TzEdyk"
      },
      "outputs": [],
      "source": [
        "pk.dump(NN_relu,open(\"/content/gdrive/My Drive/Colab Notebooks/relu_NN.pkl\",\"wb\"))"
      ]
    },
    {
      "cell_type": "markdown",
      "source": [
        "For using Dumped model - "
      ],
      "metadata": {
        "id": "zOStsjfC2a1m"
      }
    },
    {
      "cell_type": "code",
      "source": [
        "NN_relu = pk.load(open(\"/content/gdrive/My Drive/Colab Notebooks/relu_NN.pkl\", 'rb'))\n",
        "NN_relu.sklearn_model1 = pk.load(open(\"/content/gdrive/My Drive/Colab Notebooks/relu_sklearn_50.pkl\", 'rb'))\n",
        "NN_relu.sklearn_model2 = pk.load(open(\"/content/gdrive/My Drive/Colab Notebooks/relu_sklearn_100.pkl\", 'rb'))\n",
        "NN_relu2 =  pk.load(open(\"/content/gdrive/My Drive/Colab Notebooks/relu_NN001.pkl\", 'rb'))"
      ],
      "metadata": {
        "id": "WwFobAzH2drW"
      },
      "execution_count": 22,
      "outputs": []
    },
    {
      "cell_type": "markdown",
      "metadata": {
        "id": "mW8MIpJqyvW5"
      },
      "source": [
        "Plotting Training and validation loss curve for ReLu-"
      ]
    },
    {
      "cell_type": "code",
      "execution_count": 15,
      "metadata": {
        "colab": {
          "base_uri": "https://localhost:8080/",
          "height": 281
        },
        "id": "LEKS_lzay784",
        "outputId": "930f3d1b-dfa3-4fd6-e730-ff6ef945ae84"
      },
      "outputs": [
        {
          "output_type": "display_data",
          "data": {
            "text/plain": [
              "<Figure size 432x288 with 1 Axes>"
            ],
            "image/png": "[encoded data removed]"
          },
          "metadata": {
            "needs_background": "light"
          }
        }
      ],
      "source": [
        "NN_relu.plot_test_val_loss();"
      ]
    },
    {
      "cell_type": "markdown",
      "metadata": {
        "id": "33niQPczy7Zw"
      },
      "source": [
        "Test Accuracy after 50 and 100 epochs for Relu"
      ]
    },
    {
      "cell_type": "code",
      "execution_count": 16,
      "metadata": {
        "colab": {
          "base_uri": "https://localhost:8080/"
        },
        "id": "nZ4KKOVng8wM",
        "outputId": "3d10e181-ee3e-4246-f570-5b4466c8cb22"
      },
      "outputs": [
        {
          "output_type": "stream",
          "name": "stdout",
          "text": [
            "MyNeuralNetwork Accuracy after 50 epoch for  relu : 0.09683333333333333\n",
            "MyNeuralNetwork Accuracy after 100 epoch for relu : 0.09683333333333333\n"
          ]
        }
      ],
      "source": [
        "NN_relu.give_acc_fifty_epoch(X_test,y_test);"
      ]
    },
    {
      "cell_type": "markdown",
      "source": [
        "## Now by using learning rate 0.001 on MyNeuralNetwork"
      ],
      "metadata": {
        "id": "3iCraRpTwYli"
      }
    },
    {
      "cell_type": "code",
      "execution_count": null,
      "metadata": {
        "id": "YxC7OhEkx7Qa"
      },
      "outputs": [],
      "source": [
        "NN_relu2 = MyNeuralNetwork(5,[784,256,128,64,10],'relu',0.001,'normal',1,100);"
      ]
    },
    {
      "cell_type": "code",
      "execution_count": null,
      "metadata": {
        "colab": {
          "base_uri": "https://localhost:8080/"
        },
        "outputId": "8fd2b3f9-30d3-40d9-c809-cfa002b43fc8",
        "id": "zwDEQIv1x7Qb"
      },
      "outputs": [
        {
          "output_type": "stream",
          "name": "stdout",
          "text": [
            "Epoch: 5 Training_loss= 1.6612971671900407 Validation_Loss= 1.6475287464746382\n",
            "Epoch: 10 Training_loss= 1.606845992897757 Validation_Loss= 1.6211321249693926\n",
            "Epoch: 15 Training_loss= 1.5778879458758168 Validation_Loss= 1.6041710070574464\n",
            "Epoch: 20 Training_loss= 1.5557125710264275 Validation_Loss= 1.5957038230552358\n",
            "Epoch: 25 Training_loss= 1.5378945499495482 Validation_Loss= 1.5790634497896316\n",
            "Epoch: 30 Training_loss= 1.5240025002526114 Validation_Loss= 1.582198104174703\n",
            "Epoch: 35 Training_loss= 1.511850650105209 Validation_Loss= 1.576460106351362\n",
            "Epoch: 40 Training_loss= 1.5026714378403143 Validation_Loss= 1.5893071280663955\n",
            "Epoch: 45 Training_loss= 1.4932526970914899 Validation_Loss= 1.5822963661362812\n",
            "Epoch: 50 Training_loss= 1.4874952660048144 Validation_Loss= 1.5874241789236023\n",
            "Epoch: 55 Training_loss= 1.4828084239162724 Validation_Loss= 1.5788565023838754\n",
            "Epoch: 60 Training_loss= 1.4784980157295895 Validation_Loss= 1.569857402299969\n",
            "Epoch: 65 Training_loss= 1.475015238622349 Validation_Loss= 1.578513532324956\n",
            "Epoch: 70 Training_loss= 1.4708208740841278 Validation_Loss= 1.5708000083559022\n",
            "Epoch: 75 Training_loss= 1.4686828843519735 Validation_Loss= 1.5705480389257493\n",
            "Epoch: 80 Training_loss= 1.467348538799257 Validation_Loss= 1.5675096995741329\n",
            "Epoch: 85 Training_loss= 1.4646765949399487 Validation_Loss= 1.571547549956511\n",
            "Epoch: 90 Training_loss= 1.464644395291612 Validation_Loss= 1.5687985416311039\n",
            "Epoch: 95 Training_loss= 1.4633282288445058 Validation_Loss= 1.5677662668845032\n",
            "Epoch: 100 Training_loss= 1.462949283880733 Validation_Loss= 1.567015276583664\n"
          ]
        }
      ],
      "source": [
        "NN_relu2.fit(X_train,y_train, X_val, y_val);"
      ]
    },
    {
      "cell_type": "markdown",
      "metadata": {
        "id": "9htHQjpkx7Qd"
      },
      "source": [
        "Dumping - "
      ]
    },
    {
      "cell_type": "code",
      "execution_count": 17,
      "metadata": {
        "id": "hTeXsCtix7Qe"
      },
      "outputs": [],
      "source": [
        "pk.dump(NN_relu2,open(\"/content/gdrive/My Drive/Colab Notebooks/relu_NN001.pkl\",\"wb\"))"
      ]
    },
    {
      "cell_type": "markdown",
      "metadata": {
        "id": "4MSX2JHCx7Qf"
      },
      "source": [
        "Plotting Training and validation loss curve for ReLu-"
      ]
    },
    {
      "cell_type": "code",
      "execution_count": 18,
      "metadata": {
        "colab": {
          "base_uri": "https://localhost:8080/",
          "height": 281
        },
        "outputId": "2e7b3637-0407-4e0b-953d-0524706bd704",
        "id": "aJGl9COQx7Qf"
      },
      "outputs": [
        {
          "output_type": "display_data",
          "data": {
            "text/plain": [
              "<Figure size 432x288 with 1 Axes>"
            ],
            "image/png": "[encoded data removed]"
          },
          "metadata": {
            "needs_background": "light"
          }
        }
      ],
      "source": [
        "NN_relu2.plot_test_val_loss();"
      ]
    },
    {
      "cell_type": "markdown",
      "metadata": {
        "id": "F69gnb43x7Qg"
      },
      "source": [
        "Test Accuracy after 50 and 100 epochs for Relu"
      ]
    },
    {
      "cell_type": "code",
      "execution_count": 19,
      "metadata": {
        "colab": {
          "base_uri": "https://localhost:8080/"
        },
        "outputId": "04f59aec-1e19-4900-f993-326fb4ea48f0",
        "id": "HrvHkBT0x7Qh"
      },
      "outputs": [
        {
          "output_type": "stream",
          "name": "stdout",
          "text": [
            "MyNeuralNetwork Accuracy after 50 epoch for  relu : 0.952\n",
            "MyNeuralNetwork Accuracy after 100 epoch for relu : 0.978\n"
          ]
        }
      ],
      "source": [
        "NN_relu2.give_acc_fifty_epoch(X_test,y_test);"
      ]
    },
    {
      "cell_type": "markdown",
      "metadata": {
        "id": "8Qr7f7M40FDe"
      },
      "source": [
        "##By using Sklearn for Relu activation"
      ]
    },
    {
      "cell_type": "code",
      "execution_count": null,
      "metadata": {
        "id": "GSKD7E0x0K5G",
        "colab": {
          "base_uri": "https://localhost:8080/"
        },
        "outputId": "ce96c25e-2a47-4086-cfd2-502ba7a47cda"
      },
      "outputs": [
        {
          "output_type": "stream",
          "name": "stderr",
          "text": [
            "/usr/local/lib/python3.7/dist-packages/sklearn/neural_network/_multilayer_perceptron.py:696: ConvergenceWarning: Stochastic Optimizer: Maximum iterations (50) reached and the optimization hasn't converged yet.\n",
            "  ConvergenceWarning,\n",
            "/usr/local/lib/python3.7/dist-packages/sklearn/neural_network/_multilayer_perceptron.py:696: ConvergenceWarning: Stochastic Optimizer: Maximum iterations (100) reached and the optimization hasn't converged yet.\n",
            "  ConvergenceWarning,\n"
          ]
        }
      ],
      "source": [
        "NN_relu.train_sklearn_models(X_train,y_train);"
      ]
    },
    {
      "cell_type": "markdown",
      "metadata": {
        "id": "b2Drtfzb0dgW"
      },
      "source": [
        "Plotting graph of loss from Sklearn vs MyNeuralNetwork-"
      ]
    },
    {
      "cell_type": "code",
      "execution_count": 23,
      "metadata": {
        "id": "eQoj3z4m0ngV",
        "colab": {
          "base_uri": "https://localhost:8080/",
          "height": 281
        },
        "outputId": "97a98486-a597-47f8-b1c8-68ae5713b386"
      },
      "outputs": [
        {
          "output_type": "display_data",
          "data": {
            "text/plain": [
              "<Figure size 432x288 with 1 Axes>"
            ],
            "image/png": "[encoded data removed]"
          },
          "metadata": {
            "needs_background": "light"
          }
        }
      ],
      "source": [
        "NN_relu.compare_with_mlp();"
      ]
    },
    {
      "cell_type": "markdown",
      "metadata": {
        "id": "FdqOxtVb0xEl"
      },
      "source": [
        "Printing Accuracy from Sklean and MyNeuralNetowek after fifty and 100 epochs-"
      ]
    },
    {
      "cell_type": "code",
      "execution_count": 24,
      "metadata": {
        "id": "2qEaK9Fp1AAt",
        "colab": {
          "base_uri": "https://localhost:8080/"
        },
        "outputId": "9a7b5b2d-5020-4aa5-8e7e-d91119518d95"
      },
      "outputs": [
        {
          "output_type": "stream",
          "name": "stdout",
          "text": [
            "MyNeuralNetwork Accuracy after 50 epoch for  relu : 0.09683333333333333\n",
            "MyNeuralNetwork Accuracy after 100 epoch for relu : 0.09683333333333333\n",
            "Sklearn Accuracy after 50 epoch for Relu: 0.9121666666666667\n",
            "Sklearn Accuracy after 100 epoch for Relu: 0.9448333333333333\n"
          ]
        }
      ],
      "source": [
        "NN_relu.give_acc_fifty_epoch(X_test,y_test);\n",
        "y1 = NN_relu.sklearn_model1.predict(X_test);\n",
        "y2 = NN_relu.sklearn_model2.predict(X_test);\n",
        "\n",
        "accuracy1 = np.sum(y1 == y_test)/len(y_test)\n",
        "accuracy2 = np.sum(y2 == y_test)/len(y_test)\n",
        "print(\"Sklearn Accuracy after 50 epoch for Relu:\",accuracy1);\n",
        "print(\"Sklearn Accuracy after 100 epoch for Relu:\",accuracy2);"
      ]
    },
    {
      "cell_type": "markdown",
      "metadata": {
        "id": "VdbNemp71uub"
      },
      "source": [
        "Dumping models - "
      ]
    },
    {
      "cell_type": "code",
      "execution_count": null,
      "metadata": {
        "id": "MbOB62OM1uZU"
      },
      "outputs": [],
      "source": [
        "pk.dump(NN_relu.sklearn_model1,open(\"/content/gdrive/My Drive/Colab Notebooks/relu_sklearn_50.pkl\",\"wb\"))\n",
        "pk.dump(NN_relu.sklearn_model2,open(\"/content/gdrive/My Drive/Colab Notebooks/relu_sklearn_100.pkl\",\"wb\"))"
      ]
    },
    {
      "cell_type": "markdown",
      "metadata": {
        "id": "mx3v5rmb1ZO-"
      },
      "source": [
        "##Tanh"
      ]
    },
    {
      "cell_type": "code",
      "execution_count": null,
      "metadata": {
        "id": "t3I4YXch1ZO_"
      },
      "outputs": [],
      "source": [
        "NN_tanh = MyNeuralNetwork(5,[784,256,128,64,10],'tanh',0.1,'normal',1,100);"
      ]
    },
    {
      "cell_type": "code",
      "execution_count": null,
      "metadata": {
        "colab": {
          "base_uri": "https://localhost:8080/"
        },
        "outputId": "34945499-6761-4b65-8ecd-2d98fbb6ab06",
        "id": "O1v7u4Wb1ZPA"
      },
      "outputs": [
        {
          "output_type": "stream",
          "name": "stdout",
          "text": [
            "Epoch: 5 Training_loss= 2.383590141001587 Validation_Loss= 2.372769689817952\n",
            "Epoch: 10 Training_loss= 2.3767656776719015 Validation_Loss= 2.4121543344366567\n",
            "Epoch: 15 Training_loss= 2.3653183159629516 Validation_Loss= 2.084107869930798\n",
            "Epoch: 20 Training_loss= 2.347011930019407 Validation_Loss= 2.550038823947423\n",
            "Epoch: 25 Training_loss= 2.3560260543211626 Validation_Loss= 2.546154746796892\n",
            "Epoch: 30 Training_loss= 2.3489493152242993 Validation_Loss= 2.534583237407578\n",
            "Epoch: 35 Training_loss= 2.3577750120336494 Validation_Loss= 2.456905547958083\n",
            "Epoch: 40 Training_loss= 2.351936435521192 Validation_Loss= 2.407176672853677\n",
            "Epoch: 45 Training_loss= 2.338137771244281 Validation_Loss= 2.081793551102086\n",
            "Epoch: 50 Training_loss= 2.3612555514718796 Validation_Loss= 2.3854748218249666\n",
            "Epoch: 55 Training_loss= 2.3644876133878405 Validation_Loss= 2.2071827684438565\n",
            "Epoch: 60 Training_loss= 2.3515760681727835 Validation_Loss= 2.277738329601917\n",
            "Epoch: 65 Training_loss= 2.3525878899145978 Validation_Loss= 2.398603957711898\n",
            "Epoch: 70 Training_loss= 2.348496726475605 Validation_Loss= 2.433269675270312\n",
            "Epoch: 75 Training_loss= 2.3625270866170642 Validation_Loss= 2.435433522534094\n",
            "Epoch: 80 Training_loss= 2.3420084003827912 Validation_Loss= 2.3472902410819505\n",
            "Epoch: 85 Training_loss= 2.3428275292995977 Validation_Loss= 2.3897420087116017\n",
            "Epoch: 90 Training_loss= 2.341407418722121 Validation_Loss= 2.2546347659187105\n",
            "Epoch: 95 Training_loss= 2.3610650427333395 Validation_Loss= 2.1264945359229213\n",
            "Epoch: 100 Training_loss= 2.3545028242288204 Validation_Loss= 2.3031993474285617\n"
          ]
        }
      ],
      "source": [
        "NN_tanh.fit(X_train,y_train, X_val, y_val);"
      ]
    },
    {
      "cell_type": "markdown",
      "metadata": {
        "id": "b_POjYbC1ZPB"
      },
      "source": [
        "Dumping - "
      ]
    },
    {
      "cell_type": "code",
      "execution_count": null,
      "metadata": {
        "id": "eOqvJX671ZPB"
      },
      "outputs": [],
      "source": [
        "pk.dump(NN_tanh,open(\"/content/gdrive/My Drive/Colab Notebooks/tanh_NN.pkl\",\"wb\"))"
      ]
    },
    {
      "cell_type": "markdown",
      "source": [
        "For using Dumped model - "
      ],
      "metadata": {
        "id": "kNzA05WO48fe"
      }
    },
    {
      "cell_type": "code",
      "source": [
        "NN_tanh = pk.load(open(\"/content/gdrive/My Drive/Colab Notebooks/tanh_NN.pkl\", 'rb'))\n",
        "NN_tanh.sklearn_model1 = pk.load(open(\"/content/gdrive/My Drive/Colab Notebooks/tanh_sklearn_50.pkl\", 'rb'))\n",
        "NN_tanh.sklearn_model2 = pk.load(open(\"/content/gdrive/My Drive/Colab Notebooks/tanh_sklearn_100.pkl\", 'rb'))\n",
        "NN_tanh2 =  pk.load(open(\"/content/gdrive/My Drive/Colab Notebooks/tanh_NN001.pkl\", 'rb'))"
      ],
      "metadata": {
        "id": "29Nx6lja48ff"
      },
      "execution_count": 25,
      "outputs": []
    },
    {
      "cell_type": "markdown",
      "metadata": {
        "id": "f6muKak51ZPB"
      },
      "source": [
        "Plotting Training and validation loss curve for tanh-"
      ]
    },
    {
      "cell_type": "code",
      "execution_count": 26,
      "metadata": {
        "colab": {
          "base_uri": "https://localhost:8080/",
          "height": 281
        },
        "outputId": "6b009e6f-4416-4448-a8ee-5cf1d1900a18",
        "id": "GWQjCJUq1ZPC"
      },
      "outputs": [
        {
          "output_type": "display_data",
          "data": {
            "text/plain": [
              "<Figure size 432x288 with 1 Axes>"
            ],
            "image/png": "[encoded data removed]"
          },
          "metadata": {
            "needs_background": "light"
          }
        }
      ],
      "source": [
        "NN_tanh.plot_test_val_loss();"
      ]
    },
    {
      "cell_type": "markdown",
      "metadata": {
        "id": "KzbzZAZj1ZPC"
      },
      "source": [
        "Test Accuracy after 50 and 100 epochs for tanh"
      ]
    },
    {
      "cell_type": "code",
      "execution_count": 27,
      "metadata": {
        "colab": {
          "base_uri": "https://localhost:8080/"
        },
        "outputId": "48b215b0-02d1-43b2-80ed-ace9c961adce",
        "id": "X-ivlLGu1ZPD"
      },
      "outputs": [
        {
          "output_type": "stream",
          "name": "stdout",
          "text": [
            "MyNeuralNetwork Accuracy after 50 epoch for  tanh : 0.07166666666666667\n",
            "MyNeuralNetwork Accuracy after 100 epoch for tanh : 0.26033333333333336\n"
          ]
        }
      ],
      "source": [
        "NN_tanh.give_acc_fifty_epoch(X_test,y_test);"
      ]
    },
    {
      "cell_type": "markdown",
      "source": [
        "## Now by using learning rate 0.001 on MyNeuralNetwork"
      ],
      "metadata": {
        "id": "89xG6NhrwDfK"
      }
    },
    {
      "cell_type": "code",
      "execution_count": null,
      "metadata": {
        "id": "c4bW1-WGy25a"
      },
      "outputs": [],
      "source": [
        "NN_tanh2 = MyNeuralNetwork(5,[784,256,128,64,10],'tanh',0.001,'normal',1,100);"
      ]
    },
    {
      "cell_type": "code",
      "execution_count": null,
      "metadata": {
        "colab": {
          "base_uri": "https://localhost:8080/"
        },
        "outputId": "1af72014-7c38-4837-e40a-6bc8b216b5a7",
        "id": "dnD-GngVy257"
      },
      "outputs": [
        {
          "output_type": "stream",
          "name": "stdout",
          "text": [
            "Epoch: 5 Training_loss= 1.7183920325951398 Validation_Loss= 1.7038846954080082\n",
            "Epoch: 10 Training_loss= 1.6402978939721493 Validation_Loss= 1.647940204373707\n",
            "Epoch: 15 Training_loss= 1.611290414896382 Validation_Loss= 1.619160221335958\n",
            "Epoch: 20 Training_loss= 1.5900002336689099 Validation_Loss= 1.6076406522604485\n",
            "Epoch: 25 Training_loss= 1.5716235817419375 Validation_Loss= 1.6056298847166663\n",
            "Epoch: 30 Training_loss= 1.555020183870342 Validation_Loss= 1.5925114324921001\n",
            "Epoch: 35 Training_loss= 1.540632171721036 Validation_Loss= 1.5829210394369841\n",
            "Epoch: 40 Training_loss= 1.527606008093242 Validation_Loss= 1.584031817661411\n",
            "Epoch: 45 Training_loss= 1.5160893709556558 Validation_Loss= 1.58403670831114\n",
            "Epoch: 50 Training_loss= 1.506362564417804 Validation_Loss= 1.5779028796778518\n",
            "Epoch: 55 Training_loss= 1.4978713771010321 Validation_Loss= 1.5793470435791817\n",
            "Epoch: 60 Training_loss= 1.4920026277565637 Validation_Loss= 1.5712259069469312\n",
            "Epoch: 65 Training_loss= 1.4865729839070077 Validation_Loss= 1.5709058503628193\n",
            "Epoch: 70 Training_loss= 1.4825181263787963 Validation_Loss= 1.5728303289967067\n",
            "Epoch: 75 Training_loss= 1.4789012253671008 Validation_Loss= 1.5693091525738327\n",
            "Epoch: 80 Training_loss= 1.4753966524650939 Validation_Loss= 1.5665593547694474\n",
            "Epoch: 85 Training_loss= 1.472693555953936 Validation_Loss= 1.565025852452243\n",
            "Epoch: 90 Training_loss= 1.4711205944378563 Validation_Loss= 1.5654231983651525\n",
            "Epoch: 95 Training_loss= 1.4695763362334453 Validation_Loss= 1.564302639940041\n",
            "Epoch: 100 Training_loss= 1.4692668770757988 Validation_Loss= 1.5636589014758193\n"
          ]
        }
      ],
      "source": [
        "NN_tanh2.fit(X_train,y_train, X_val, y_val);"
      ]
    },
    {
      "cell_type": "markdown",
      "metadata": {
        "id": "HHFB0t-jy259"
      },
      "source": [
        "Dumping - "
      ]
    },
    {
      "cell_type": "code",
      "execution_count": null,
      "metadata": {
        "id": "1eJWbcU_y25-"
      },
      "outputs": [],
      "source": [
        "pk.dump(NN_tanh2,open(\"/content/gdrive/My Drive/Colab Notebooks/tanh_NN001.pkl\",\"wb\"))"
      ]
    },
    {
      "cell_type": "markdown",
      "metadata": {
        "id": "gJG66N8Ty25-"
      },
      "source": [
        "Plotting Training and validation loss curve for tanh-"
      ]
    },
    {
      "cell_type": "code",
      "execution_count": 28,
      "metadata": {
        "colab": {
          "base_uri": "https://localhost:8080/",
          "height": 281
        },
        "outputId": "64624646-3aff-49f9-c450-caffd8701dd2",
        "id": "rg20STszy25_"
      },
      "outputs": [
        {
          "output_type": "display_data",
          "data": {
            "text/plain": [
              "<Figure size 432x288 with 1 Axes>"
            ],
            "image/png": "[encoded data removed]"
          },
          "metadata": {
            "needs_background": "light"
          }
        }
      ],
      "source": [
        "NN_tanh2.plot_test_val_loss();"
      ]
    },
    {
      "cell_type": "markdown",
      "metadata": {
        "id": "0D30z4Rny26A"
      },
      "source": [
        "Test Accuracy after 50 and 100 epochs for tanh"
      ]
    },
    {
      "cell_type": "code",
      "execution_count": 29,
      "metadata": {
        "colab": {
          "base_uri": "https://localhost:8080/"
        },
        "outputId": "c8d0884c-d54e-4757-e48c-14a4a74941d9",
        "id": "PM32-p-fy26B"
      },
      "outputs": [
        {
          "output_type": "stream",
          "name": "stdout",
          "text": [
            "MyNeuralNetwork Accuracy after 50 epoch for  tanh : 0.9575\n",
            "MyNeuralNetwork Accuracy after 100 epoch for tanh : 0.9733333333333334\n"
          ]
        }
      ],
      "source": [
        "NN_tanh2.give_acc_fifty_epoch(X_test,y_test);"
      ]
    },
    {
      "cell_type": "markdown",
      "metadata": {
        "id": "SvFcf3ie1ZPG"
      },
      "source": [
        "##By using Sklearn for tanh activation"
      ]
    },
    {
      "cell_type": "code",
      "execution_count": null,
      "metadata": {
        "colab": {
          "base_uri": "https://localhost:8080/"
        },
        "outputId": "553fd22f-05dc-4d0a-a304-ae58a8e75176",
        "id": "9DERD8sW1ZPH"
      },
      "outputs": [
        {
          "output_type": "stream",
          "name": "stderr",
          "text": [
            "/usr/local/lib/python3.7/dist-packages/sklearn/neural_network/_multilayer_perceptron.py:696: ConvergenceWarning: Stochastic Optimizer: Maximum iterations (50) reached and the optimization hasn't converged yet.\n",
            "  ConvergenceWarning,\n",
            "/usr/local/lib/python3.7/dist-packages/sklearn/neural_network/_multilayer_perceptron.py:696: ConvergenceWarning: Stochastic Optimizer: Maximum iterations (100) reached and the optimization hasn't converged yet.\n",
            "  ConvergenceWarning,\n"
          ]
        }
      ],
      "source": [
        "NN_tanh.train_sklearn_models(X_train,y_train);"
      ]
    },
    {
      "cell_type": "markdown",
      "metadata": {
        "id": "DxMxV1_A1ZPH"
      },
      "source": [
        "Plotting graph of loss from Sklearn vs MyNeuralNetwork-"
      ]
    },
    {
      "cell_type": "code",
      "execution_count": 30,
      "metadata": {
        "colab": {
          "base_uri": "https://localhost:8080/",
          "height": 281
        },
        "id": "I00mpVnL1ZPI",
        "outputId": "8371e349-620b-4562-e0a2-37dfdcf4965e"
      },
      "outputs": [
        {
          "output_type": "display_data",
          "data": {
            "text/plain": [
              "<Figure size 432x288 with 1 Axes>"
            ],
            "image/png": "[encoded data removed]"
          },
          "metadata": {
            "needs_background": "light"
          }
        }
      ],
      "source": [
        "NN_tanh.compare_with_mlp();"
      ]
    },
    {
      "cell_type": "markdown",
      "metadata": {
        "id": "GXlFWn-t1ZPI"
      },
      "source": [
        "Printing Accuracy from Sklean and MyNeuralNetowek after fifty and 100 epochs-"
      ]
    },
    {
      "cell_type": "code",
      "execution_count": 31,
      "metadata": {
        "colab": {
          "base_uri": "https://localhost:8080/"
        },
        "outputId": "0e55351d-2a9f-4aac-a0ec-ba961f2f9e5c",
        "id": "ffw29oPQ1ZPI"
      },
      "outputs": [
        {
          "output_type": "stream",
          "name": "stdout",
          "text": [
            "MyNeuralNetwork Accuracy after 50 epoch for  tanh : 0.07166666666666667\n",
            "MyNeuralNetwork Accuracy after 100 epoch for tanh : 0.26033333333333336\n",
            "Sklearn Accuracy after 50 epoch for tanh: 0.9038333333333334\n",
            "Sklearn Accuracy after 100 epoch for tanh: 0.9328333333333333\n"
          ]
        }
      ],
      "source": [
        "NN_tanh.give_acc_fifty_epoch(X_test,y_test);\n",
        "y1 = NN_tanh.sklearn_model1.predict(X_test);\n",
        "y2 = NN_tanh.sklearn_model2.predict(X_test);\n",
        "\n",
        "accuracy1 = np.sum(y1 == y_test)/len(y_test)\n",
        "accuracy2 = np.sum(y2 == y_test)/len(y_test)\n",
        "print(\"Sklearn Accuracy after 50 epoch for tanh:\",accuracy1);\n",
        "print(\"Sklearn Accuracy after 100 epoch for tanh:\",accuracy2);"
      ]
    },
    {
      "cell_type": "markdown",
      "metadata": {
        "id": "M7shAPKk1ZPJ"
      },
      "source": [
        "Dumping models - "
      ]
    },
    {
      "cell_type": "code",
      "execution_count": null,
      "metadata": {
        "id": "P5v8FHWx1ZPJ"
      },
      "outputs": [],
      "source": [
        "pk.dump(NN_tanh.sklearn_model1,open(\"/content/gdrive/My Drive/Colab Notebooks/tanh_sklearn_50.pkl\",\"wb\"))\n",
        "pk.dump(NN_tanh.sklearn_model2,open(\"/content/gdrive/My Drive/Colab Notebooks/tanh_sklearn_100.pkl\",\"wb\"))"
      ]
    },
    {
      "cell_type": "markdown",
      "metadata": {
        "id": "HsZeIuVH1qF9"
      },
      "source": [
        "##Sigmoid"
      ]
    },
    {
      "cell_type": "code",
      "execution_count": null,
      "metadata": {
        "id": "HV0yGoxj1qGL"
      },
      "outputs": [],
      "source": [
        "NN_sigmoid = MyNeuralNetwork(5,[784,256,128,64,10],'sigmoid',0.1,'normal',1,100);"
      ]
    },
    {
      "cell_type": "code",
      "execution_count": null,
      "metadata": {
        "colab": {
          "background_save": true,
          "base_uri": "https://localhost:8080/"
        },
        "outputId": "cb9af08d-8f64-4eae-ade0-d8dacd5b2ca7",
        "id": "RC5Mfcx81qGL"
      },
      "outputs": [
        {
          "name": "stdout",
          "output_type": "stream",
          "text": [
            "Epoch: 5 Training_loss= 1.6637950214776904 Validation_Loss= 1.6618232724601527\n",
            "Epoch: 10 Training_loss= 1.6395432956782006 Validation_Loss= 1.665867645218318\n"
          ]
        },
        {
          "name": "stderr",
          "output_type": "stream",
          "text": [
            "/usr/local/lib/python3.7/dist-packages/ipykernel_launcher.py:102: RuntimeWarning: overflow encountered in exp\n"
          ]
        },
        {
          "name": "stdout",
          "output_type": "stream",
          "text": [
            "Epoch: 15 Training_loss= 1.6343727819084015 Validation_Loss= 1.6477648524961417\n",
            "Epoch: 20 Training_loss= 1.6301737175755948 Validation_Loss= 1.6311827582911298\n",
            "Epoch: 25 Training_loss= 1.6265119265960386 Validation_Loss= 1.634061101639506\n",
            "Epoch: 30 Training_loss= 1.6264701568668685 Validation_Loss= 1.635335024726235\n",
            "Epoch: 35 Training_loss= 1.6237282149389527 Validation_Loss= 1.6403316622604118\n",
            "Epoch: 40 Training_loss= 1.6217463605604716 Validation_Loss= 1.6353572187880843\n",
            "Epoch: 45 Training_loss= 1.6239386636778048 Validation_Loss= 1.6393591807486034\n",
            "Epoch: 50 Training_loss= 1.6253832450357082 Validation_Loss= 1.6415095474007135\n",
            "Epoch: 55 Training_loss= 1.6204590442888809 Validation_Loss= 1.629122720319953\n",
            "Epoch: 60 Training_loss= 1.6194788000485836 Validation_Loss= 1.6320784608629828\n",
            "Epoch: 65 Training_loss= 1.6210569628399307 Validation_Loss= 1.6337605635105226\n",
            "Epoch: 70 Training_loss= 1.6208837951754327 Validation_Loss= 1.637789631319111\n",
            "Epoch: 75 Training_loss= 1.6238304269524622 Validation_Loss= 1.642885763782446\n",
            "Epoch: 80 Training_loss= 1.621829405590289 Validation_Loss= 1.6393664301147928\n",
            "Epoch: 85 Training_loss= 1.6165144048789974 Validation_Loss= 1.6388068189862366\n",
            "Epoch: 90 Training_loss= 1.617490431483035 Validation_Loss= 1.6303438101872716\n",
            "Epoch: 95 Training_loss= 1.6205612412553951 Validation_Loss= 1.6278222159175135\n",
            "Epoch: 100 Training_loss= 1.6168630223188944 Validation_Loss= 1.6310272405562973\n"
          ]
        }
      ],
      "source": [
        "NN_sigmoid.fit(X_train,y_train, X_val, y_val);"
      ]
    },
    {
      "cell_type": "markdown",
      "metadata": {
        "id": "bb904vge1qGM"
      },
      "source": [
        "Dumping - "
      ]
    },
    {
      "cell_type": "code",
      "execution_count": null,
      "metadata": {
        "colab": {
          "background_save": true
        },
        "id": "aPwLfgPS1qGN"
      },
      "outputs": [],
      "source": [
        "pk.dump(NN_sigmoid,open(\"/content/gdrive/My Drive/Colab Notebooks/sigmoid_NN.pkl\",\"wb\"))"
      ]
    },
    {
      "cell_type": "markdown",
      "source": [
        "For using Dumped model - "
      ],
      "metadata": {
        "id": "js-LJ4ZB5Yhl"
      }
    },
    {
      "cell_type": "code",
      "source": [
        "NN_sigmoid = pk.load(open(\"/content/gdrive/My Drive/Colab Notebooks/sigmoid_NN.pkl\", 'rb'))\n",
        "NN_sigmoid.sklearn_model1 = pk.load(open(\"/content/gdrive/My Drive/Colab Notebooks/sigmoid_sklearn_50.pkl\", 'rb'))\n",
        "NN_sigmoid.sklearn_model2 = pk.load(open(\"/content/gdrive/My Drive/Colab Notebooks/sigmoid_sklearn_100.pkl\", 'rb'))\n",
        "NN_sigmoid2 =  pk.load(open(\"/content/gdrive/My Drive/Colab Notebooks/sigmoid_NN001.pkl\", 'rb'))"
      ],
      "metadata": {
        "id": "EE_-Qsno5Yhm"
      },
      "execution_count": 32,
      "outputs": []
    },
    {
      "cell_type": "markdown",
      "metadata": {
        "id": "JP-5q2IG1qGN"
      },
      "source": [
        "Plotting Training and validation loss curve for Sigmoid-"
      ]
    },
    {
      "cell_type": "code",
      "execution_count": 33,
      "metadata": {
        "colab": {
          "base_uri": "https://localhost:8080/",
          "height": 281
        },
        "outputId": "1d285790-ca4b-47ec-c7c2-10f4911cf4f8",
        "id": "qi1iiDN01qGN"
      },
      "outputs": [
        {
          "output_type": "display_data",
          "data": {
            "text/plain": [
              "<Figure size 432x288 with 1 Axes>"
            ],
            "image/png": "[encoded data removed]"
          },
          "metadata": {
            "needs_background": "light"
          }
        }
      ],
      "source": [
        "NN_sigmoid.plot_test_val_loss();"
      ]
    },
    {
      "cell_type": "markdown",
      "metadata": {
        "id": "ZEq8gTnd1qGO"
      },
      "source": [
        "Test Accuracy after 50 and 100 epochs for Sigmoid"
      ]
    },
    {
      "cell_type": "code",
      "execution_count": 34,
      "metadata": {
        "colab": {
          "base_uri": "https://localhost:8080/"
        },
        "outputId": "26463766-39a0-420b-a880-adeeb45fd77d",
        "id": "Q7YgILRh1qGO"
      },
      "outputs": [
        {
          "output_type": "stream",
          "name": "stderr",
          "text": [
            "/usr/local/lib/python3.7/dist-packages/ipykernel_launcher.py:102: RuntimeWarning: overflow encountered in exp\n"
          ]
        },
        {
          "output_type": "stream",
          "name": "stdout",
          "text": [
            "MyNeuralNetwork Accuracy after 50 epoch for  sigmoid : 0.8686666666666667\n",
            "MyNeuralNetwork Accuracy after 100 epoch for sigmoid : 0.879\n"
          ]
        }
      ],
      "source": [
        "NN_sigmoid.give_acc_fifty_epoch(X_test,y_test);"
      ]
    },
    {
      "cell_type": "markdown",
      "source": [
        "## Now by using learning rate 0.001 on MyNeuralNetwork"
      ],
      "metadata": {
        "id": "l4ixPFtPwTpk"
      }
    },
    {
      "cell_type": "code",
      "execution_count": null,
      "metadata": {
        "id": "gljDWixqwqCh"
      },
      "outputs": [],
      "source": [
        "NN_sigmoid2 = MyNeuralNetwork(5,[784,256,128,64,10],'sigmoid',0.001,'normal',1,100);"
      ]
    },
    {
      "cell_type": "code",
      "execution_count": null,
      "metadata": {
        "colab": {
          "base_uri": "https://localhost:8080/"
        },
        "outputId": "20e21fa9-47d1-40d9-9efe-a56d32a4b40b",
        "id": "f73Dad_vwqCj"
      },
      "outputs": [
        {
          "output_type": "stream",
          "name": "stdout",
          "text": [
            "Epoch: 5 Training_loss= 2.3026158400014984 Validation_Loss= 2.3027142965769727\n",
            "Epoch: 10 Training_loss= 2.3026331366271746 Validation_Loss= 2.302611191054555\n",
            "Epoch: 15 Training_loss= 2.302621204322846 Validation_Loss= 2.302588053599102\n",
            "Epoch: 20 Training_loss= 2.3013070905032245 Validation_Loss= 2.294808810571513\n",
            "Epoch: 25 Training_loss= 2.0252397435898226 Validation_Loss= 2.0003709921279538\n",
            "Epoch: 30 Training_loss= 1.851623436082876 Validation_Loss= 1.8368122373211746\n",
            "Epoch: 35 Training_loss= 1.7606954256674234 Validation_Loss= 1.755687581897683\n",
            "Epoch: 40 Training_loss= 1.6963284525621594 Validation_Loss= 1.6989575054378558\n",
            "Epoch: 45 Training_loss= 1.6481520151540674 Validation_Loss= 1.6567777595032747\n",
            "Epoch: 50 Training_loss= 1.6181271735638563 Validation_Loss= 1.6334656508639513\n",
            "Epoch: 55 Training_loss= 1.5971870335931317 Validation_Loss= 1.6207260650113273\n",
            "Epoch: 60 Training_loss= 1.5802593056514593 Validation_Loss= 1.6086851540217424\n",
            "Epoch: 65 Training_loss= 1.564984132120602 Validation_Loss= 1.6034617773228292\n",
            "Epoch: 70 Training_loss= 1.550448711878421 Validation_Loss= 1.6040185453853786\n",
            "Epoch: 75 Training_loss= 1.536802133350612 Validation_Loss= 1.5921692959533535\n",
            "Epoch: 80 Training_loss= 1.5241831609673422 Validation_Loss= 1.5897471898513522\n",
            "Epoch: 85 Training_loss= 1.51260129478407 Validation_Loss= 1.5908386538707724\n",
            "Epoch: 90 Training_loss= 1.5024503661205673 Validation_Loss= 1.589588418479077\n",
            "Epoch: 95 Training_loss= 1.4938489798488002 Validation_Loss= 1.5885922199876537\n",
            "Epoch: 100 Training_loss= 1.4874714310932737 Validation_Loss= 1.5856929700180569\n"
          ]
        }
      ],
      "source": [
        "NN_sigmoid2.fit(X_train,y_train, X_val, y_val);"
      ]
    },
    {
      "cell_type": "markdown",
      "metadata": {
        "id": "U3DlgUMYwqCk"
      },
      "source": [
        "Dumping - "
      ]
    },
    {
      "cell_type": "code",
      "execution_count": null,
      "metadata": {
        "id": "mdamSBmBwqCl"
      },
      "outputs": [],
      "source": [
        "pk.dump(NN_sigmoid2,open(\"/content/gdrive/My Drive/Colab Notebooks/sigmoid_NN001.pkl\",\"wb\"))"
      ]
    },
    {
      "cell_type": "markdown",
      "metadata": {
        "id": "zezfIo92wqCm"
      },
      "source": [
        "Plotting Training and validation loss curve for Sigmoid-"
      ]
    },
    {
      "cell_type": "code",
      "execution_count": 35,
      "metadata": {
        "colab": {
          "base_uri": "https://localhost:8080/",
          "height": 281
        },
        "outputId": "d7c5b187-1e45-4b99-bca1-29489af4e14b",
        "id": "D9KIs7IswqCm"
      },
      "outputs": [
        {
          "output_type": "display_data",
          "data": {
            "text/plain": [
              "<Figure size 432x288 with 1 Axes>"
            ],
            "image/png": "[encoded data removed]"
          },
          "metadata": {
            "needs_background": "light"
          }
        }
      ],
      "source": [
        "NN_sigmoid2.plot_test_val_loss();"
      ]
    },
    {
      "cell_type": "markdown",
      "metadata": {
        "id": "WHZtLDhBwqCn"
      },
      "source": [
        "Test Accuracy after 50 and 100 epochs for Sigmoid"
      ]
    },
    {
      "cell_type": "code",
      "execution_count": 36,
      "metadata": {
        "colab": {
          "base_uri": "https://localhost:8080/"
        },
        "outputId": "f56fb9f8-3cda-4cbf-bb25-8b5492756acb",
        "id": "PpCZ-fyBwqCo"
      },
      "outputs": [
        {
          "output_type": "stream",
          "name": "stdout",
          "text": [
            "MyNeuralNetwork Accuracy after 50 epoch for  sigmoid : 0.8945\n",
            "MyNeuralNetwork Accuracy after 100 epoch for sigmoid : 0.9698333333333333\n"
          ]
        }
      ],
      "source": [
        "NN_sigmoid2.give_acc_fifty_epoch(X_test,y_test);"
      ]
    },
    {
      "cell_type": "markdown",
      "metadata": {
        "id": "N4QEwyJ91qGS"
      },
      "source": [
        "##By using Sklearn for Sigmoid activation"
      ]
    },
    {
      "cell_type": "code",
      "execution_count": null,
      "metadata": {
        "colab": {
          "background_save": true
        },
        "outputId": "cb803c28-7598-40cd-dfa4-791f9a5f000e",
        "id": "EdBoqU7P1qGS"
      },
      "outputs": [
        {
          "name": "stderr",
          "output_type": "stream",
          "text": [
            "/usr/local/lib/python3.7/dist-packages/sklearn/neural_network/_multilayer_perceptron.py:696: ConvergenceWarning: Stochastic Optimizer: Maximum iterations (50) reached and the optimization hasn't converged yet.\n",
            "  ConvergenceWarning,\n",
            "/usr/local/lib/python3.7/dist-packages/sklearn/neural_network/_multilayer_perceptron.py:696: ConvergenceWarning: Stochastic Optimizer: Maximum iterations (100) reached and the optimization hasn't converged yet.\n",
            "  ConvergenceWarning,\n"
          ]
        }
      ],
      "source": [
        "NN_sigmoid.train_sklearn_models(X_train,y_train);"
      ]
    },
    {
      "cell_type": "markdown",
      "metadata": {
        "id": "KkNQjkcm1qGU"
      },
      "source": [
        "Plotting graph of loss from Sklearn vs MyNeuralNetwork-"
      ]
    },
    {
      "cell_type": "code",
      "execution_count": 37,
      "metadata": {
        "colab": {
          "base_uri": "https://localhost:8080/",
          "height": 281
        },
        "outputId": "a9374105-1967-48f2-d0e0-384e8b41c215",
        "id": "QSz4qBA_1qGV"
      },
      "outputs": [
        {
          "output_type": "display_data",
          "data": {
            "text/plain": [
              "<Figure size 432x288 with 1 Axes>"
            ],
            "image/png": "[encoded data removed]"
          },
          "metadata": {
            "needs_background": "light"
          }
        }
      ],
      "source": [
        "NN_sigmoid.compare_with_mlp();"
      ]
    },
    {
      "cell_type": "markdown",
      "metadata": {
        "id": "Ehr-cmH81qGV"
      },
      "source": [
        "Printing Accuracy from Sklean and MyNeuralNetowek after fifty and 100 epochs-"
      ]
    },
    {
      "cell_type": "code",
      "execution_count": 38,
      "metadata": {
        "colab": {
          "base_uri": "https://localhost:8080/"
        },
        "outputId": "04c30a04-77f3-40f6-89ce-41a48528162d",
        "id": "PiaFLoaI1qGW"
      },
      "outputs": [
        {
          "output_type": "stream",
          "name": "stderr",
          "text": [
            "/usr/local/lib/python3.7/dist-packages/ipykernel_launcher.py:102: RuntimeWarning: overflow encountered in exp\n"
          ]
        },
        {
          "output_type": "stream",
          "name": "stdout",
          "text": [
            "MyNeuralNetwork Accuracy after 50 epoch for  sigmoid : 0.8686666666666667\n",
            "MyNeuralNetwork Accuracy after 100 epoch for sigmoid : 0.879\n",
            "Sklearn Accuracy after 50 epoch for Sigmoid: 0.553\n",
            "Sklearn Accuracy after 100 epoch for Sigmoid: 0.7265\n"
          ]
        }
      ],
      "source": [
        "NN_sigmoid.give_acc_fifty_epoch(X_test,y_test);\n",
        "y1 = NN_sigmoid.sklearn_model1.predict(X_test);\n",
        "y2 = NN_sigmoid.sklearn_model2.predict(X_test);\n",
        "\n",
        "accuracy1 = np.sum(y1 == y_test)/len(y_test)\n",
        "accuracy2 = np.sum(y2 == y_test)/len(y_test)\n",
        "print(\"Sklearn Accuracy after 50 epoch for Sigmoid:\",accuracy1);\n",
        "print(\"Sklearn Accuracy after 100 epoch for Sigmoid:\",accuracy2);"
      ]
    },
    {
      "cell_type": "markdown",
      "metadata": {
        "id": "VPvizuDX1qGW"
      },
      "source": [
        "Dumping models - "
      ]
    },
    {
      "cell_type": "code",
      "execution_count": null,
      "metadata": {
        "colab": {
          "background_save": true
        },
        "id": "gZJYSdu11qGW"
      },
      "outputs": [],
      "source": [
        "pk.dump(NN_sigmoid.sklearn_model1,open(\"/content/gdrive/My Drive/Colab Notebooks/sigmoid_sklearn_50.pkl\",\"wb\"))\n",
        "pk.dump(NN_sigmoid.sklearn_model2,open(\"/content/gdrive/My Drive/Colab Notebooks/sigmoid_sklearn_100.pkl\",\"wb\"))"
      ]
    },
    {
      "cell_type": "code",
      "source": [
        ""
      ],
      "metadata": {
        "id": "uGqDvjaE1sWG"
      },
      "execution_count": null,
      "outputs": []
    },
    {
      "cell_type": "markdown",
      "metadata": {
        "id": "xXvjzEmt1zk7"
      },
      "source": [
        "##Linear"
      ]
    },
    {
      "cell_type": "code",
      "execution_count": null,
      "metadata": {
        "id": "LjGxRPO61zk8"
      },
      "outputs": [],
      "source": [
        "NN_linear = MyNeuralNetwork(5,[784,256,128,64,10],'linear',0.001,'normal',1,100);"
      ]
    },
    {
      "cell_type": "code",
      "execution_count": null,
      "metadata": {
        "colab": {
          "base_uri": "https://localhost:8080/"
        },
        "outputId": "08057e32-5849-4c5e-97bf-b0879ec94966",
        "id": "DQiSrUaD1zk9"
      },
      "outputs": [
        {
          "output_type": "stream",
          "name": "stdout",
          "text": [
            "Epoch: 5 Training_loss= 1.8078639082823837 Validation_Loss= 1.8014897648918298\n",
            "Epoch: 10 Training_loss= 1.7917825825914775 Validation_Loss= 1.7977189986839188\n",
            "Epoch: 15 Training_loss= 1.789765755289461 Validation_Loss= 1.7969545355098495\n",
            "Epoch: 20 Training_loss= 1.7892240468952727 Validation_Loss= 1.796584245703606\n",
            "Epoch: 25 Training_loss= 1.7885510208659765 Validation_Loss= 1.789257954669905\n",
            "Epoch: 30 Training_loss= 1.7881413554062147 Validation_Loss= 1.7988650703090212\n",
            "Epoch: 35 Training_loss= 1.7879676653432828 Validation_Loss= 1.7889538549237558\n",
            "Epoch: 40 Training_loss= 1.7874311354667 Validation_Loss= 1.8000071975058203\n",
            "Epoch: 45 Training_loss= 1.7873766924688326 Validation_Loss= 1.7958884184617754\n",
            "Epoch: 50 Training_loss= 1.7872640385521197 Validation_Loss= 1.7933104529250075\n",
            "Epoch: 55 Training_loss= 1.7872746270062716 Validation_Loss= 1.7883071843003286\n",
            "Epoch: 60 Training_loss= 1.7868408535800866 Validation_Loss= 1.7982505104089808\n",
            "Epoch: 65 Training_loss= 1.7871957867933528 Validation_Loss= 1.786986982351453\n",
            "Epoch: 70 Training_loss= 1.7868425803509114 Validation_Loss= 1.7929705941351073\n",
            "Epoch: 75 Training_loss= 1.7867656491812707 Validation_Loss= 1.790022407352138\n",
            "Epoch: 80 Training_loss= 1.7869084117164125 Validation_Loss= 1.7903873623660116\n",
            "Epoch: 85 Training_loss= 1.7866992014441245 Validation_Loss= 1.792201795549536\n",
            "Epoch: 90 Training_loss= 1.7866980021786967 Validation_Loss= 1.790593808015912\n",
            "Epoch: 95 Training_loss= 1.7868073864850589 Validation_Loss= 1.791787467506584\n",
            "Epoch: 100 Training_loss= 1.7865962802707989 Validation_Loss= 1.7885760734817355\n"
          ]
        }
      ],
      "source": [
        "NN_linear.fit(X_train,y_train, X_val, y_val);"
      ]
    },
    {
      "cell_type": "markdown",
      "metadata": {
        "id": "XnHMmkuO1zk9"
      },
      "source": [
        "Dumping - "
      ]
    },
    {
      "cell_type": "code",
      "execution_count": null,
      "metadata": {
        "id": "QPUfe_qP1zk-"
      },
      "outputs": [],
      "source": [
        "pk.dump(NN_linear,open(\"/content/gdrive/My Drive/Colab Notebooks/linear_NN.pkl\",\"wb\"))"
      ]
    },
    {
      "cell_type": "markdown",
      "source": [
        "For using Dumped model - "
      ],
      "metadata": {
        "id": "R70RrRZP5_yk"
      }
    },
    {
      "cell_type": "code",
      "source": [
        "NN_linear = pk.load(open(\"/content/gdrive/My Drive/Colab Notebooks/linear_NN.pkl\", 'rb'))\n",
        "NN_linear.sklearn_model1 = pk.load(open(\"/content/gdrive/My Drive/Colab Notebooks/linear_sklearn_50.pkl\", 'rb'))\n",
        "NN_linear.sklearn_model2 = pk.load(open(\"/content/gdrive/My Drive/Colab Notebooks/linear_sklearn_100.pkl\", 'rb'))"
      ],
      "metadata": {
        "id": "SyJO-uQm5_yl"
      },
      "execution_count": 40,
      "outputs": []
    },
    {
      "cell_type": "markdown",
      "metadata": {
        "id": "OipboezN1zk-"
      },
      "source": [
        "Plotting Training and validation loss curve for Linear-"
      ]
    },
    {
      "cell_type": "code",
      "execution_count": 41,
      "metadata": {
        "colab": {
          "base_uri": "https://localhost:8080/",
          "height": 281
        },
        "outputId": "570337bb-ddc1-4417-f5cb-bc43e3d22809",
        "id": "xg-oQW9O1zk-"
      },
      "outputs": [
        {
          "output_type": "display_data",
          "data": {
            "text/plain": [
              "<Figure size 432x288 with 1 Axes>"
            ],
            "image/png": "[encoded data removed]"
          },
          "metadata": {
            "needs_background": "light"
          }
        }
      ],
      "source": [
        "NN_linear.plot_test_val_loss();"
      ]
    },
    {
      "cell_type": "markdown",
      "metadata": {
        "id": "sxmRM5cr1zk_"
      },
      "source": [
        "Test Accuracy after 50 and 100 epochs for Linear"
      ]
    },
    {
      "cell_type": "code",
      "execution_count": 42,
      "metadata": {
        "colab": {
          "base_uri": "https://localhost:8080/"
        },
        "outputId": "b54f2bd3-ebbb-4569-f522-15e3d980a1ac",
        "id": "YBP6P1f31zk_"
      },
      "outputs": [
        {
          "output_type": "stream",
          "name": "stdout",
          "text": [
            "MyNeuralNetwork Accuracy after 50 epoch for  linear : 0.8196666666666667\n",
            "MyNeuralNetwork Accuracy after 100 epoch for linear : 0.8183333333333334\n"
          ]
        }
      ],
      "source": [
        "NN_linear.give_acc_fifty_epoch(X_test,y_test);"
      ]
    },
    {
      "cell_type": "markdown",
      "metadata": {
        "id": "4Hujvvn21zlA"
      },
      "source": [
        "##By using Sklearn for Linear activation"
      ]
    },
    {
      "cell_type": "code",
      "execution_count": null,
      "metadata": {
        "colab": {
          "base_uri": "https://localhost:8080/"
        },
        "outputId": "20c8b600-3cf9-4779-90b4-276971cb6e5b",
        "id": "6mHl1_2S1zlA"
      },
      "outputs": [
        {
          "output_type": "stream",
          "name": "stderr",
          "text": [
            "/usr/local/lib/python3.7/dist-packages/sklearn/neural_network/_multilayer_perceptron.py:696: ConvergenceWarning: Stochastic Optimizer: Maximum iterations (50) reached and the optimization hasn't converged yet.\n",
            "  ConvergenceWarning,\n",
            "/usr/local/lib/python3.7/dist-packages/sklearn/neural_network/_multilayer_perceptron.py:696: ConvergenceWarning: Stochastic Optimizer: Maximum iterations (100) reached and the optimization hasn't converged yet.\n",
            "  ConvergenceWarning,\n"
          ]
        }
      ],
      "source": [
        "NN_linear.train_sklearn_models(X_train,y_train);"
      ]
    },
    {
      "cell_type": "markdown",
      "metadata": {
        "id": "rJ1nQfOj1zlA"
      },
      "source": [
        "Plotting graph of loss from Sklearn vs MyNeuralNetwork-"
      ]
    },
    {
      "cell_type": "code",
      "execution_count": 43,
      "metadata": {
        "colab": {
          "base_uri": "https://localhost:8080/",
          "height": 281
        },
        "id": "TDTs8NOX1zlB",
        "outputId": "9c22bdbd-6890-4aaf-ec81-3ec2d384a23a"
      },
      "outputs": [
        {
          "output_type": "display_data",
          "data": {
            "text/plain": [
              "<Figure size 432x288 with 1 Axes>"
            ],
            "image/png": "[encoded data removed]"
          },
          "metadata": {
            "needs_background": "light"
          }
        }
      ],
      "source": [
        "NN_linear.compare_with_mlp();"
      ]
    },
    {
      "cell_type": "markdown",
      "metadata": {
        "id": "J-jAYWYY1zlB"
      },
      "source": [
        "Printing Accuracy from Sklean and MyNeuralNetowek after fifty and 100 epochs-"
      ]
    },
    {
      "cell_type": "code",
      "execution_count": 44,
      "metadata": {
        "colab": {
          "base_uri": "https://localhost:8080/"
        },
        "outputId": "7eb5c6a2-77ae-4e74-f739-376dc308d956",
        "id": "ykAQzK3Z1zlB"
      },
      "outputs": [
        {
          "output_type": "stream",
          "name": "stdout",
          "text": [
            "MyNeuralNetwork Accuracy after 50 epoch for  linear : 0.8196666666666667\n",
            "MyNeuralNetwork Accuracy after 100 epoch for linear : 0.8183333333333334\n",
            "Sklearn Accuracy after 50 epoch for linear: 0.8666666666666667\n",
            "Sklearn Accuracy after 100 epoch for linear: 0.8711666666666666\n"
          ]
        }
      ],
      "source": [
        "NN_linear.give_acc_fifty_epoch(X_test,y_test);\n",
        "y1 = NN_linear.sklearn_model1.predict(X_test);\n",
        "y2 = NN_linear.sklearn_model2.predict(X_test);\n",
        "\n",
        "accuracy1 = np.sum(y1 == y_test)/len(y_test)\n",
        "accuracy2 = np.sum(y2 == y_test)/len(y_test)\n",
        "print(\"Sklearn Accuracy after 50 epoch for linear:\",accuracy1);\n",
        "print(\"Sklearn Accuracy after 100 epoch for linear:\",accuracy2);"
      ]
    },
    {
      "cell_type": "markdown",
      "metadata": {
        "id": "Gojn3ttK1zlC"
      },
      "source": [
        "Dumping models - "
      ]
    },
    {
      "cell_type": "code",
      "execution_count": null,
      "metadata": {
        "id": "m2QTL8xP1zlC"
      },
      "outputs": [],
      "source": [
        "pk.dump(NN_linear.sklearn_model1,open(\"/content/gdrive/My Drive/Colab Notebooks/linear_sklearn_50.pkl\",\"wb\"))\n",
        "pk.dump(NN_linear.sklearn_model2,open(\"/content/gdrive/My Drive/Colab Notebooks/linear_sklearn_100.pkl\",\"wb\"))"
      ]
    }
  ],
  "metadata": {
    "colab": {
      "collapsed_sections": [],
      "name": "ML-A2_2019197_Q1.ipynb",
      "provenance": []
    },
    "kernelspec": {
      "display_name": "Python 3",
      "name": "python3"
    },
    "language_info": {
      "name": "python"
    }
  },
  "nbformat": 4,
  "nbformat_minor": 0
}